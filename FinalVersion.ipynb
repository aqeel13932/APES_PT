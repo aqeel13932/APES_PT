{
 "cells": [
  {
   "cell_type": "markdown",
   "metadata": {},
   "source": [
    "# PROJECT : APES"
   ]
  },
  {
   "cell_type": "code",
   "execution_count": 1,
   "metadata": {
    "collapsed": false
   },
   "outputs": [],
   "source": [
    "#%matplotlib inline\n",
    "from Settings import *\n",
    "from World import *\n",
    "from Agent import *\n",
    "from Obstacles import *\n",
    "from Foods import *\n",
    "import numpy as np\n",
    "from time import time\n",
    "from time import sleep\n",
    "np.random.seed(10)"
   ]
  },
  {
   "cell_type": "code",
   "execution_count": 2,
   "metadata": {
    "collapsed": false
   },
   "outputs": [
    {
     "name": "stdout",
     "output_type": "stream",
     "text": [
      "0.0924611091614\n"
     ]
    }
   ],
   "source": [
    "Start = time()\n",
    "#Add Pictures\n",
    "Settings.SetBlockSize(20)\n",
    "Settings.AddImage('Wall','Pics/wall.jpg')\n",
    "Settings.AddImage('Food','Pics/food.jpg')\n",
    "#Specify World Size\n",
    "Settings.WorldSize=(11,11)\n",
    "\n",
    "#Create Probabilities\n",
    "obs = np.zeros(Settings.WorldSize)\n",
    "ragnt = np.zeros(Settings.WorldSize)\n",
    "gagnt = np.zeros(Settings.WorldSize)\n",
    "food = np.zeros(Settings.WorldSize)\n",
    "obs[3:8,5] = 1\n",
    "ragnt[:,0] =1\n",
    "gagnt[:,10]=1\n",
    "food[:,4:7]=1\n",
    "food[3:8,5] = 0\n",
    "\n",
    "#Add Probabilities to Settings\n",
    "Settings.AddProbabilityDistribution('Obs',obs)\n",
    "Settings.AddProbabilityDistribution('ragnt',ragnt)\n",
    "Settings.AddProbabilityDistribution('gagnt',gagnt)\n",
    "Settings.AddProbabilityDistribution('food',food)\n",
    "\n",
    "#Create World Elements\n",
    "obs = Obstacles('Wall',Shape=np.array([[1],[1],[1],[1]]),PdstName='Obs')\n",
    "ragnt = Agent(Fname='Pics/ragent.jpg',Power=3,VisionAngle=90,Range=4,PdstName='ragnt')\n",
    "gagnt = Agent(Fname='Pics/gagent.jpg',PdstName='gagnt',VisionAngle=180)\n",
    "food = Foods('Food',PdstName='food')\n",
    "\n",
    "game = World()\n",
    "#Adding Agents in Order of Following the action\n",
    "game.AddAgents([ragnt,gagnt])\n",
    "game.AddObstacles([obs])\n",
    "game.AddFoods([food])#,Foods('Food',PdstName='food')])\n",
    "Start = time()-Start\n",
    "print Start"
   ]
  },
  {
   "cell_type": "code",
   "execution_count": 3,
   "metadata": {
    "collapsed": false
   },
   "outputs": [
    {
     "name": "stdout",
     "output_type": "stream",
     "text": [
      "0.0222249031067\n"
     ]
    },
    {
     "data": {
      "text/plain": [
       "<matplotlib.image.AxesImage at 0x7fdaaafc4c10>"
      ]
     },
     "execution_count": 3,
     "metadata": {},
     "output_type": "execute_result"
    }
   ],
   "source": [
    "Start = time()\n",
    "game.GenerateWorld()\n",
    "Start = time()-Start\n",
    "print Start\n",
    "plt.figure(figsize=Settings.FigureSize)\n",
    "plt.imshow(game.BuildImage())"
   ]
  },
  {
   "cell_type": "code",
   "execution_count": 4,
   "metadata": {
    "collapsed": false,
    "scrolled": true
   },
   "outputs": [
    {
     "name": "stdout",
     "output_type": "stream",
     "text": [
      "[['L' 'N']\n",
      " ['M' 'N']] -1\n",
      "[['L' 'W']\n",
      " ['M' 'W']] -1\n",
      "[['L' 'N']\n",
      " ['M' 'N']] -1\n",
      "[['L' 'W']\n",
      " ['M' 'W']] -1\n",
      "[['L' 'W']\n",
      " ['M' 'W']] -1\n",
      "[['L' 'W']\n",
      " ['M' 'W']] -1\n",
      "[['L' 'W']\n",
      " ['M' 'W']] -1\n",
      "[['L' 'E']\n",
      " ['M' 'E']] -1\n",
      "[['L' 'N']\n",
      " ['M' 'N']] -1\n",
      "[['L' 'N']\n",
      " ['M' 'N']] -1\n",
      "[['L' 'N']\n",
      " ['M' 'N']] -1\n",
      "[['L' 'N']\n",
      " ['M' 'N']] -1\n",
      "[['L' 'N']\n",
      " ['M' 'N']] -1\n",
      "[['L' 'N']\n",
      " ['M' 'N']] -1\n",
      "[['L' 'S']\n",
      " ['M' 'S']] 9\n",
      "[['L' 'N']\n",
      " ['M' 'N']] -1\n",
      "[['L' 'S']\n",
      " ['M' 'S']] -1\n",
      "[['L' 'W']\n",
      " ['M' 'W']] -1\n",
      "[['L' 'W']\n",
      " ['M' 'W']] -1\n",
      "[['L' 'W']\n",
      " ['M' 'W']] -1\n"
     ]
    }
   ],
   "source": [
    "rimages = []\n",
    "tt = []\n",
    "for i in range (20):\n",
    "    #ragnt.RandomAction(MRA=3)\n",
    "    gagnt.RandomAction(MRA=3)\n",
    "    #print len(ragnt.NextAction),ragnt.CurrentReward,len(gagnt.NextAction),gagnt.CurrentReward\n",
    "    Start = time()\n",
    "    game.Step()\n",
    "    ragnt.DetectAndAstar()\n",
    "    tt.append(time()-Start)\n",
    "    #t = np.concatenate([game.AgentViewPoint(ragnt.ID),game.AgentViewPoint(gagnt.ID)],axis=1)\n",
    "    #rimages.append(t)\n",
    "    rimages.append(game.BuildImage())\n",
    "    print ragnt.NextAction,ragnt.CurrentReward\n",
    "    #print gagnt.NextAction,gagnt.CurrentReward\n",
    "#Save Video\n",
    "Settings.ani_frame(rimages=rimages,fps=5)"
   ]
  },
  {
   "cell_type": "code",
   "execution_count": 5,
   "metadata": {
    "collapsed": false
   },
   "outputs": [
    {
     "data": {
      "text/plain": [
       "<matplotlib.image.AxesImage at 0x7fdaaa4f69d0>"
      ]
     },
     "execution_count": 5,
     "metadata": {},
     "output_type": "execute_result"
    }
   ],
   "source": [
    "plt.figure(figsize=(20,20))\n",
    "plt.subplot(2,2,1)\n",
    "plt.imshow(game.AgentViewPoint(1001,EgoCentric=True))\n",
    "plt.subplot(2,2,2)\n",
    "plt.imshow(game.AgentViewPoint(1002))\n",
    "plt.subplot(2,2,3)\n",
    "plt.imshow(game.BuildImage())"
   ]
  },
  {
   "cell_type": "markdown",
   "metadata": {},
   "source": [
    "ani_frame()"
   ]
  },
  {
   "cell_type": "code",
   "execution_count": 6,
   "metadata": {
    "collapsed": false,
    "scrolled": false
   },
   "outputs": [
    {
     "name": "stdout",
     "output_type": "stream",
     "text": [
      "[True] [-6] 0\n"
     ]
    }
   ],
   "source": [
    "print game.Terminated,game.AfterEndSteps,game.AES"
   ]
  }
 ],
 "metadata": {
  "kernelspec": {
   "display_name": "Python [fullfeatured]",
   "language": "python",
   "name": "Python [fullfeatured]"
  },
  "language_info": {
   "codemirror_mode": {
    "name": "ipython",
    "version": 2
   },
   "file_extension": ".py",
   "mimetype": "text/x-python",
   "name": "python",
   "nbconvert_exporter": "python",
   "pygments_lexer": "ipython2",
   "version": "2.7.12"
  }
 },
 "nbformat": 4,
 "nbformat_minor": 0
}
