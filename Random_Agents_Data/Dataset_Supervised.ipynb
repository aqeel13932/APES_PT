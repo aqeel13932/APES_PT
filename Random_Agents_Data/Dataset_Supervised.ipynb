{
 "cells": [
  {
   "cell_type": "code",
   "execution_count": 1,
   "metadata": {},
   "outputs": [],
   "source": [
    "import pandas as pd\n",
    "#from keras.models import load_model\n",
    "from Settings import *\n",
    "from Obstacles import *\n",
    "from Agent import *\n",
    "from Foods import *\n",
    "from World import *\n",
    "import ast\n",
    "import matplotlib.pyplot as plt\n",
    "%matplotlib inline\n",
    "def SetupEnvironment():\n",
    "    #Add Pictures\n",
    "    Settings.SetBlockSize(20)\n",
    "    Settings.AddImage('Wall','Pics/wall.jpg')\n",
    "    Settings.AddImage('Food','Pics/food.jpg')\n",
    "\n",
    "    #Specify World Size\n",
    "    Settings.WorldSize=(11,11)\n",
    "\n",
    "    #Create Probabilities\n",
    "    obs = np.zeros(Settings.WorldSize)\n",
    "    ragnt = np.zeros(Settings.WorldSize)\n",
    "    gagnt = np.zeros(Settings.WorldSize)\n",
    "    food = np.zeros(Settings.WorldSize)\n",
    "    obs[3:8,5] = 1\n",
    "    ragnt[:,0] =1\n",
    "    gagnt[:,10]=1\n",
    "    food[:,4:7]=1\n",
    "    food[3:8,5] = 0\n",
    "\n",
    "    #Add Probabilities to Settings\n",
    "    Settings.AddProbabilityDistribution('Obs',obs)\n",
    "    Settings.AddProbabilityDistribution('ragnt',ragnt)\n",
    "    Settings.AddProbabilityDistribution('gagnt',gagnt)\n",
    "    Settings.AddProbabilityDistribution('food',food)\n",
    "\n",
    "    #Create World Elements\n",
    "    obs = Obstacles('Wall',Shape=np.array([[1],[1],[1],[1]]),PdstName='Obs')\n",
    "    food = Foods('Food',PdstName='food')\n",
    "\n",
    "    ragnt = Agent(Fname='Pics/ragent.jpg',Power=3,VisionAngle=180,Range=-1,PdstName='ragnt',ActionMemory=4)\n",
    "    gagnt = Agent(Fname='Pics/gagent.jpg',VisionAngle=180,Range=-1,Power=10,ControlRange=1,PdstName='gagnt')\n",
    "    print(ragnt.ID,gagnt.ID)\n",
    "    game =World(RewardsScheme=[-10,1000,0.1],StepsLimit=1000)\n",
    "    #Adding Agents in Order of Following the action\n",
    "    #game.AddAgents([ragnt])\n",
    "    game.AddAgents([gagnt,ragnt])\n",
    "    game.AddObstacles([obs])\n",
    "    game.AddFoods([food])\n",
    "    return game\n"
   ]
  },
  {
   "cell_type": "code",
   "execution_count": 2,
   "metadata": {
    "scrolled": true
   },
   "outputs": [
    {
     "name": "stdout",
     "output_type": "stream",
     "text": [
      "1001 1002\n"
     ]
    }
   ],
   "source": [
    "game = SetupEnvironment()"
   ]
  },
  {
   "cell_type": "code",
   "execution_count": 26,
   "metadata": {
    "scrolled": false
   },
   "outputs": [
    {
     "data": {
      "image/png": "[encoded data removed]",
      "text/plain": [
       "<matplotlib.figure.Figure at 0x7f24182c0a58>"
      ]
     },
     "metadata": {},
     "output_type": "display_data"
    }
   ],
   "source": [
    "game.GenerateWorld()\n",
    "game.Step()\n",
    "plt.imshow(game.BuildImage())\n",
    "AIAgent = game.agents[1001]\n",
    "DAgent = game.agents[1002]"
   ]
  },
  {
   "cell_type": "code",
   "execution_count": 3,
   "metadata": {
    "collapsed": true
   },
   "outputs": [],
   "source": [
    "x = pd.DataFrame(columns=['Food','Observed',\n",
    "                          'MyPosition','OponentPosition',\n",
    "                          'Obestacles','myori',\n",
    "                          'opori','enemobs',\n",
    "                          'nactions','FoodObserved',\n",
    "                          'original_map','game_no'])"
   ]
  },
  {
   "cell_type": "markdown",
   "metadata": {},
   "source": [
    "# Agents work Randomly"
   ]
  },
  {
   "cell_type": "code",
   "execution_count": null,
   "metadata": {
    "scrolled": true
   },
   "outputs": [
    {
     "name": "stdout",
     "output_type": "stream",
     "text": [
      "0 0\n",
      "1000 8\n",
      "2000 11\n",
      "3000 14\n",
      "4000 22\n",
      "5000 26\n",
      "6000 30\n",
      "7000 31\n",
      "8000 35\n",
      "9000 40\n",
      "10000 46\n",
      "11000 50\n",
      "12000 54\n",
      "13000 65\n",
      "14000 67\n",
      "15000 72\n",
      "16000 75\n",
      "17000 78\n",
      "18000 81\n",
      "19000 88\n",
      "20000 94\n",
      "21000 95\n",
      "22000 100\n",
      "23000 104\n",
      "24000 106\n",
      "25000 110\n",
      "26000 114\n",
      "27000 121\n",
      "28000 125\n",
      "29000 126\n",
      "30000 133\n",
      "31000 139\n",
      "32000 143\n",
      "33000 151\n",
      "34000 153\n",
      "35000 156\n",
      "36000 166\n",
      "37000 173\n",
      "38000 183\n",
      "39000 188\n",
      "40000 192\n",
      "41000 194\n",
      "42000 200\n",
      "43000 204\n",
      "44000 208\n",
      "45000 215\n",
      "46000 220\n",
      "47000 229\n",
      "48000 232\n",
      "49000 234\n",
      "50000 240\n",
      "51000 248\n",
      "52000 254\n",
      "53000 262\n",
      "54000 265\n",
      "55000 269\n",
      "56000 270\n",
      "57000 278\n",
      "58000 284\n",
      "59000 285\n",
      "60000 289\n",
      "61000 294\n",
      "62000 296\n",
      "63000 302\n",
      "64000 304\n",
      "65000 305\n",
      "66000 317\n",
      "67000 318\n",
      "68000 320\n",
      "69000 327\n",
      "70000 334\n",
      "71000 337\n",
      "72000 343\n",
      "73000 348\n",
      "74000 352\n",
      "75000 358\n",
      "76000 362\n",
      "77000 368\n",
      "78000 371\n",
      "79000 374\n",
      "80000 376\n",
      "81000 382\n",
      "82000 384\n",
      "83000 391\n",
      "84000 396\n",
      "85000 399\n",
      "86000 405\n",
      "87000 413\n",
      "88000 415\n",
      "89000 420\n",
      "90000 424\n",
      "91000 429\n",
      "92000 433\n",
      "93000 442\n",
      "94000 445\n",
      "95000 450\n",
      "96000 460\n",
      "97000 462\n",
      "98000 464\n",
      "99000 468\n",
      "100000 471\n",
      "101000 476\n",
      "102000 482\n",
      "103000 490\n",
      "104000 493\n",
      "105000 497\n",
      "106000 500\n",
      "107000 502\n",
      "108000 506\n",
      "109000 508\n",
      "110000 513\n",
      "111000 514\n",
      "112000 520\n",
      "113000 528\n",
      "114000 535\n",
      "115000 537\n",
      "116000 541\n",
      "117000 547\n",
      "118000 553\n",
      "119000 555\n",
      "120000 561\n",
      "121000 564\n",
      "122000 569\n",
      "123000 577\n",
      "124000 579\n",
      "125000 583\n",
      "126000 587\n",
      "127000 590\n",
      "128000 595\n",
      "129000 602\n",
      "130000 609\n",
      "131000 617\n",
      "132000 621\n",
      "133000 627\n",
      "134000 630\n",
      "135000 635\n",
      "136000 636\n",
      "137000 642\n",
      "138000 649\n",
      "139000 652\n",
      "140000 655\n",
      "141000 657\n",
      "142000 660\n",
      "143000 664\n",
      "144000 667\n",
      "145000 674\n",
      "146000 676\n",
      "147000 682\n",
      "148000 685\n",
      "149000 697\n",
      "150000 706\n",
      "151000 711\n",
      "152000 713\n",
      "153000 719\n",
      "154000 726\n",
      "155000 730\n",
      "156000 734\n",
      "157000 742\n",
      "158000 743\n",
      "159000 748\n",
      "160000 750\n",
      "161000 752\n",
      "162000 756\n",
      "163000 763\n",
      "164000 770\n",
      "165000 776\n",
      "166000 780\n",
      "167000 784\n",
      "168000 787\n",
      "169000 791\n",
      "170000 793\n",
      "171000 801\n",
      "172000 805\n",
      "173000 810\n",
      "174000 814\n",
      "175000 818\n",
      "176000 823\n",
      "177000 829\n",
      "178000 836\n",
      "179000 839\n",
      "180000 849\n",
      "181000 856\n",
      "182000 862\n",
      "183000 864\n",
      "184000 869\n",
      "185000 879\n",
      "186000 885\n",
      "187000 892\n",
      "188000 898\n",
      "189000 907\n",
      "190000 910\n",
      "191000 912\n",
      "192000 916\n",
      "193000 919\n",
      "194000 924\n",
      "195000 929\n",
      "196000 935\n",
      "197000 936\n",
      "198000 940\n",
      "199000 943\n",
      "200000 947\n",
      "201000 952\n",
      "202000 953\n",
      "203000 958\n",
      "204000 964\n",
      "205000 969\n",
      "206000 974\n",
      "207000 981\n",
      "208000 988\n",
      "209000 989\n",
      "210000 993\n",
      "211000 995\n",
      "212000 1000\n",
      "213000 1007\n",
      "214000 1010\n",
      "215000 1016\n",
      "216000 1018\n",
      "217000 1023\n",
      "218000 1030\n",
      "219000 1031\n",
      "220000 1034\n",
      "221000 1038\n",
      "222000 1043\n",
      "223000 1052\n",
      "224000 1059\n",
      "225000 1061\n",
      "226000 1069\n",
      "227000 1071\n",
      "228000 1073\n",
      "229000 1083\n",
      "230000 1086\n",
      "231000 1090\n",
      "232000 1098\n",
      "233000 1104\n",
      "234000 1108\n",
      "235000 1111\n",
      "236000 1117\n",
      "237000 1121\n",
      "238000 1128\n",
      "239000 1132\n",
      "240000 1139\n",
      "241000 1143\n",
      "242000 1148\n",
      "243000 1151\n",
      "244000 1155\n",
      "245000 1164\n",
      "246000 1174\n",
      "247000 1178\n",
      "248000 1182\n",
      "249000 1188\n"
     ]
    }
   ],
   "source": [
    "DAgent,AIAgent = [game.agents[x] for x in game.agents]\n",
    "counter=0\n",
    "number_of_games =10000\n",
    "for game_no in range(number_of_games):\n",
    "    if counter>=2000000:\n",
    "        break\n",
    "    game.GenerateWorld()\n",
    "    for t in range(1000):\n",
    "        if counter%1000==0:\n",
    "            print(counter,game_no)\n",
    "        AIAgent.RandomAction()\n",
    "        DAgent.RandomAction()\n",
    "        game.Step()\n",
    "        reward = AIAgent.CurrentReward\n",
    "        #print(reward)\n",
    "        done = game.Terminated[0]\n",
    "        #observation, reward, done, info = env.step(action)\n",
    "        x.loc[counter] = [AIAgent.NNFeed['food'].astype(int16),AIAgent.NNFeed['observed'].astype(int16),\n",
    "                AIAgent.NNFeed['mypos'].astype(int16),AIAgent.NNFeed['agentpos1002'].astype(int16),\n",
    "                AIAgent.NNFeed['obstacles'].astype(int16),AIAgent.NNFeed['myori'].astype(int16),\n",
    "                AIAgent.NNFeed['agentori1002'].astype(int16),DAgent.NNFeed['observed'].astype(int16),\n",
    "                AIAgent.LastnAction.astype(int16),np.sum(DAgent.NNFeed['food'])>=1,\n",
    "                game.world,game_no]\n",
    "        counter+=1\n",
    "        if done:\n",
    "            break"
   ]
  },
  {
   "cell_type": "code",
   "execution_count": 23,
   "metadata": {
    "collapsed": true
   },
   "outputs": [],
   "source": [
    "def from_np_array(array_string):\n",
    "    array_string = ','.join(array_string.replace('[ ', '[').split())\n",
    "    return np.array(ast.literal_eval(array_string))"
   ]
  },
  {
   "cell_type": "code",
   "execution_count": 46,
   "metadata": {},
   "outputs": [
    {
     "data": {
      "text/plain": [
       "Index(['Food', 'Observed', 'MyPosition', 'OponentPosition', 'Obestacles',\n",
       "       'myori', 'opori', 'enemobs', 'nactions', 'FoodObserved', 'original_map',\n",
       "       'game_no'],\n",
       "      dtype='object')"
      ]
     },
     "execution_count": 46,
     "metadata": {},
     "output_type": "execute_result"
    }
   ],
   "source": [
    "x.columns"
   ]
  },
  {
   "cell_type": "code",
   "execution_count": 15,
   "metadata": {
    "scrolled": true
   },
   "outputs": [
    {
     "data": {
      "text/plain": [
       "(387, 12)"
      ]
     },
     "execution_count": 15,
     "metadata": {},
     "output_type": "execute_result"
    }
   ],
   "source": [
    "x.shape"
   ]
  },
  {
   "cell_type": "code",
   "execution_count": 16,
   "metadata": {
    "collapsed": true
   },
   "outputs": [],
   "source": [
    "x.to_csv('supervised_data.csv',index=False)"
   ]
  },
  {
   "cell_type": "code",
   "execution_count": 51,
   "metadata": {
    "collapsed": true,
    "scrolled": true
   },
   "outputs": [],
   "source": [
    "y = pd.read_csv('supervised_data.csv',converters={'Food':from_np_array})"
   ]
  }
 ],
 "metadata": {
  "kernelspec": {
   "display_name": "Python 3",
   "language": "python",
   "name": "python3"
  },
  "language_info": {
   "codemirror_mode": {
    "name": "ipython",
    "version": 3
   },
   "file_extension": ".py",
   "mimetype": "text/x-python",
   "name": "python",
   "nbconvert_exporter": "python",
   "pygments_lexer": "ipython3",
   "version": "3.6.4"
  }
 },
 "nbformat": 4,
 "nbformat_minor": 2
}
