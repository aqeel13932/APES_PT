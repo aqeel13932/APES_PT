{
 "cells": [
  {
   "cell_type": "markdown",
   "metadata": {},
   "source": [
    "# Test Model on Important Cases."
   ]
  },
  {
   "cell_type": "code",
   "execution_count": 1,
   "metadata": {
    "collapsed": false
   },
   "outputs": [
    {
     "name": "stderr",
     "output_type": "stream",
     "text": [
      "Using Theano backend.\n"
     ]
    }
   ],
   "source": [
    "import numpy as np\n",
    "np.random.seed(4917)\n",
    "from keras.models import Model,load_model\n",
    "import matplotlib.pyplot as plt\n",
    "import skvideo.io\n",
    "%matplotlib inline\n",
    "from test_environments import Environment1, Environment2, Environment3\n",
    "%matplotlib inline\n",
    "from time import time\n",
    "from Settings import *\n",
    "##### IMPORTANT SELECT WHICH ENVIRONMENT YOU WANT TO TEST FROM HERE\n",
    "env=2"
   ]
  },
  {
   "cell_type": "markdown",
   "metadata": {},
   "source": [
    "### Load the model"
   ]
  },
  {
   "cell_type": "code",
   "execution_count": 2,
   "metadata": {
    "collapsed": false
   },
   "outputs": [
    {
     "name": "stderr",
     "output_type": "stream",
     "text": [
      "/home/aqeel/miniconda3/envs/py4/lib/python3.5/site-packages/keras/models.py:150: UserWarning: No training configuration found in save file: the model was *not* compiled. Compile it manually.\n",
      "  warnings.warn('No training configuration found in save file: '\n"
     ]
    }
   ],
   "source": [
    "train_m=target_m = 187\n",
    "#model = load_model('cur_mod/{}/model.h5'.format(train_m))\n",
    "model = load_model('output/{}/MOD/target_model.h5'.format(target_m))"
   ]
  },
  {
   "cell_type": "code",
   "execution_count": 3,
   "metadata": {
    "collapsed": false
   },
   "outputs": [
    {
     "name": "stdout",
     "output_type": "stream",
     "text": [
      "Env:2,Should go\n",
      "Taken: 0.2462923526763916\n"
     ]
    }
   ],
   "source": [
    "\n",
    "if env==1:\n",
    "    game = Environment1()\n",
    "    game.GenerateWorld()\n",
    "    AIAgent,DAgent = [game.agents[x] for x in game.agents]\n",
    "    DAgent.Direction='E'\n",
    "    AIAgent.Direction='E'\n",
    "elif env==2:\n",
    "    game = Environment2()\n",
    "    game.GenerateWorld()\n",
    "    AIAgent,DAgent = [game.agents[x] for x in game.agents]\n",
    "    DAgent.Direction='S'\n",
    "    AIAgent.Direction='S'\n",
    "else:\n",
    "    game = Environment3()\n",
    "    game.GenerateWorld()\n",
    "    AIAgent,DAgent = [game.agents[x] for x in game.agents]\n",
    "    DAgent.Direction='E'"
   ]
  },
  {
   "cell_type": "code",
   "execution_count": 4,
   "metadata": {
    "collapsed": false,
    "scrolled": false
   },
   "outputs": [
    {
     "data": {
      "text/plain": [
       "<matplotlib.image.AxesImage at 0x7fca4af40f28>"
      ]
     },
     "execution_count": 4,
     "metadata": {},
     "output_type": "execute_result"
    },
    {
     "data": {
      "image/png": "[encoded data removed]",
      "text/plain": [
       "<matplotlib.figure.Figure at 0x7fca4b07cf28>"
      ]
     },
     "metadata": {},
     "output_type": "display_data"
    }
   ],
   "source": [
    "plt.figure(figsize=(13,5))\n",
    "#AIAgent.NextAction=Settings.PossibleActions[3]\n",
    "game.Step()\n",
    "ax = plt.subplot(1,3,1)\n",
    "ax.imshow(game.BuildImage())\n",
    "ax = plt.subplot(1,2,2)\n",
    "ax.imshow(game.AgentViewPoint(AIAgent.ID))\n",
    "ax = plt.subplot(1,2,2)\n",
    "ax.imshow(game.AgentViewPoint(DAgent.ID))"
   ]
  },
  {
   "cell_type": "code",
   "execution_count": 5,
   "metadata": {
    "collapsed": false
   },
   "outputs": [
    {
     "name": "stdout",
     "output_type": "stream",
     "text": [
      "Testing Target Model\n",
      "[['L', 'E'], ['M', 'E']] 3\n",
      "[['L', 'E'], ['M', 'E']] 3\n",
      "[['L', 'E'], ['M', 'E']] 3\n",
      "[['L', 'E'], ['M', 'E']] 3\n",
      "[['L', 'E'], ['M', 'E']] 3\n",
      "[['L', 'E'], ['M', 'E']] 3\n",
      "5\n"
     ]
    }
   ],
   "source": [
    "print('Testing Target Model')\n",
    "env=4\n",
    "TestingCounter=0\n",
    "TestingCounter+=1\n",
    "writer = skvideo.io.FFmpegWriter(\"Final_Results/VID_ENV_{}_Test_{}.avi\".format(env,TestingCounter))\n",
    "writer2 = skvideo.io.FFmpegWriter(\"Final_Results/VID_ENV_{}_TestAG_{}.avi\".format(env,TestingCounter))\n",
    "game.GenerateWorld()\n",
    "img = game.BuildImage()\n",
    "plt.imsave('Final_Results/VID_ENV_{}_Test_{}.png'.format(env,TestingCounter),img)\n",
    "Start = time()\n",
    "episode_reward=0\n",
    "observation = AIAgent.Flateoutput()\n",
    "\n",
    "writer.writeFrame(np.array(img*255,dtype=np.uint8))\n",
    "for t in range(1000):\n",
    "    s =np.array([observation])\n",
    "    q = model.predict(s, batch_size=1)\n",
    "    action = np.argmax(q[0])\n",
    "    print(Settings.PossibleActions[action],action)\n",
    "    AIAgent.NextAction = Settings.PossibleActions[action]\n",
    "    #DAgent.DetectAndAstar()\n",
    "    game.Step()\n",
    "    writer.writeFrame(np.array(game.BuildImage()*255,dtype=np.uint8))\n",
    "    writer2.writeFrame(np.array(game.AgentViewPoint(AIAgent.ID)*255,dtype=np.uint8))\n",
    "    observation = AIAgent.Flateoutput()\n",
    "    reward = AIAgent.CurrentReward\n",
    "    done = game.Terminated[0]\n",
    "    #observation, reward, done, info = env.step(action)\n",
    "    episode_reward += reward\n",
    "    if done:\n",
    "        break\n",
    "\n",
    "writer.close()\n",
    "writer2.close()\n",
    "Start = time()-Start\n",
    "print(t)"
   ]
  },
  {
   "cell_type": "markdown",
   "metadata": {},
   "source": [
    "* nonsense\n",
    "* nonsense\n",
    "* nonsense\n",
    "* nonsense\n",
    "* nonsense\n",
    "* nonsense\n",
    "* nonsense\n",
    "* nonsense\n",
    "* nonsense\n",
    "* nonsense\n",
    "* nonsense\n",
    "* nonsense\n",
    "* nonsense\n",
    "* nonsense\n",
    "* nonsense\n",
    "* nonsense\n",
    "* nonsense\n",
    "* nonsense\n",
    "* nonsense\n",
    "* nonsense\n",
    "* nonsense\n",
    "* nonsense\n",
    "* nonsense\n",
    "* nonsense"
   ]
  }
 ],
 "metadata": {
  "kernelspec": {
   "display_name": "Python 3",
   "language": "python",
   "name": "python3"
  },
  "language_info": {
   "codemirror_mode": {
    "name": "ipython",
    "version": 3
   },
   "file_extension": ".py",
   "mimetype": "text/x-python",
   "name": "python",
   "nbconvert_exporter": "python",
   "pygments_lexer": "ipython3",
   "version": "3.5.2"
  },
  "widgets": {
   "state": {},
   "version": "1.1.2"
  }
 },
 "nbformat": 4,
 "nbformat_minor": 1
}
