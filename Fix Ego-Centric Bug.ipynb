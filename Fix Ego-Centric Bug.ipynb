{
 "cells": [
  {
   "cell_type": "code",
   "execution_count": 1,
   "metadata": {},
   "outputs": [],
   "source": [
    "from APES import *\n",
    "import numpy as np\n",
    "import matplotlib.pyplot as plt\n",
    "%matplotlib inline\n",
    "from time import time\n",
    "import pylab as pl\n",
    "from IPython import display\n",
    "import skvideo.io\n",
    "# Set the dimension for each block ( affect the generated image quality)\n",
    "Settings.SetBlockSize(100)"
   ]
  },
  {
   "cell_type": "markdown",
   "metadata": {},
   "source": [
    "# Simple Example"
   ]
  },
  {
   "cell_type": "code",
   "execution_count": 15,
   "metadata": {},
   "outputs": [],
   "source": [
    "def Set_Settings():\n",
    "    Settings.WorldSize=(20,20)"
   ]
  },
  {
   "cell_type": "code",
   "execution_count": 16,
   "metadata": {},
   "outputs": [],
   "source": [
    "Set_Settings()"
   ]
  },
  {
   "cell_type": "code",
   "execution_count": 6,
   "metadata": {},
   "outputs": [
    {
     "name": "stdout",
     "output_type": "stream",
     "text": [
      "1003 1004\n"
     ]
    }
   ],
   "source": [
    "Settings.SetBlockSize(100)\n",
    "Settings.AddImage('Wall','APES/Pics/wall.jpg')\n",
    "Settings.AddImage('Food','APES/Pics/food.jpg')\n",
    "#Specify World Size\n",
    "Settings.WorldSize=(11,11)\n",
    "\n",
    "#Create Probabilities\n",
    "obs = np.zeros(Settings.WorldSize)\n",
    "red_Ag_PM = np.zeros(Settings.WorldSize)\n",
    "blue_Ag_PM = np.zeros(Settings.WorldSize)\n",
    "food_PM = np.zeros(Settings.WorldSize)\n",
    "obs[3:8,5] = 1 \n",
    "blue_Ag_PM[:,0] =1\n",
    "red_Ag_PM[3:8,3:8]=1\n",
    "food_PM[3:8,3:8] = 1\n",
    "#Add Probabilities to Settings\n",
    "Settings.AddProbabilityDistribution('Obs',obs)\n",
    "Settings.AddProbabilityDistribution('red_Ag_PM',red_Ag_PM)\n",
    "Settings.AddProbabilityDistribution('blue_Ag_PM',blue_Ag_PM)\n",
    "Settings.AddProbabilityDistribution('food_PM',food_PM)\n",
    "#Create World Elements\n",
    "obs = Obstacles('Wall',Shape=np.array([[1],[1],[1],[1]]),PdstName='Obs')\n",
    "food = Foods('Food',PdstName='food_PM')\n",
    "\n",
    "blue_Ag = Agent(Fname='APES/Pics/blue.jpg',\n",
    "                Power=3,\n",
    "                VisionAngle=180,Range=-1,\n",
    "                PdstName='blue_Ag_PM',\n",
    "                ActionMemory=0,\n",
    "               EgoCentric=True)\n",
    "red_Ag = Agent(Fname='APES/Pics/red.jpg',\n",
    "               VisionAngle=180,Range=-1,\n",
    "               Power=10,\n",
    "               ControlRange=1,\n",
    "               PdstName='red_Ag_PM')\n",
    "print(blue_Ag.ID,red_Ag.ID)\n",
    "game=World(RewardsScheme=[0,0,0],StepsLimit=100)\n",
    "#Agents added first has priority of executing there actions first.\n",
    "#game.AddAgents([ragnt])\n",
    "game.AddAgents([red_Ag,blue_Ag])\n",
    "#game.AddObstacles([obs])\n",
    "game.AddFoods([food])"
   ]
  },
  {
   "cell_type": "code",
   "execution_count": 7,
   "metadata": {},
   "outputs": [],
   "source": [
    "game.GenerateWorld()"
   ]
  },
  {
   "cell_type": "code",
   "execution_count": 8,
   "metadata": {},
   "outputs": [],
   "source": [
    "game.Step()"
   ]
  },
  {
   "cell_type": "code",
   "execution_count": 9,
   "metadata": {},
   "outputs": [
    {
     "data": {
      "image/png": "[encoded data removed]",
      "text/plain": [
       "<Figure size 1080x1080 with 2 Axes>"
      ]
     },
     "metadata": {
      "needs_background": "light"
     },
     "output_type": "display_data"
    }
   ],
   "source": [
    "env_initial = game.BuildImage()\n",
    "agents = [game.agents[i] for i in game.agents]\n",
    "#Execute every time step\n",
    "agents[0].NextAction = Settings.PossibleActions[2]\n",
    "agents[1].NextAction = Settings.PossibleActions[3]\n",
    "\n",
    "game.Step()\n",
    "env_1step = game.BuildImage()\n",
    "\n",
    "fig,ax = plt.subplots(nrows=1,ncols=2)\n",
    "ax[0].imshow(env_initial)\n",
    "ax[1].imshow(env_1step)\n",
    "fig.set_figheight(15)\n",
    "fig.set_figwidth(15)\n",
    "plt.show()"
   ]
  },
  {
   "cell_type": "code",
   "execution_count": 10,
   "metadata": {},
   "outputs": [
    {
     "data": {
      "text/plain": [
       "[['L', 'S'], ['M', 'S']]"
      ]
     },
     "execution_count": 10,
     "metadata": {},
     "output_type": "execute_result"
    }
   ],
   "source": [
    "Settings.PossibleActions[1]"
   ]
  },
  {
   "cell_type": "code",
   "execution_count": 11,
   "metadata": {},
   "outputs": [
    {
     "ename": "KeyError",
     "evalue": "1001",
     "output_type": "error",
     "traceback": [
      "\u001b[0;31m---------------------------------------------------------------------------\u001b[0m",
      "\u001b[0;31mKeyError\u001b[0m                                  Traceback (most recent call last)",
      "\u001b[0;32m<ipython-input-11-da2ebc2beb24>\u001b[0m in \u001b[0;36m<module>\u001b[0;34m\u001b[0m\n\u001b[0;32m----> 1\u001b[0;31m \u001b[0max\u001b[0m\u001b[0;34m[\u001b[0m\u001b[0;36m1\u001b[0m\u001b[0;34m]\u001b[0m\u001b[0;34m.\u001b[0m\u001b[0mimshow\u001b[0m\u001b[0;34m(\u001b[0m\u001b[0mnp\u001b[0m\u001b[0;34m.\u001b[0m\u001b[0mrot90\u001b[0m\u001b[0;34m(\u001b[0m\u001b[0mnp\u001b[0m\u001b[0;34m.\u001b[0m\u001b[0mflip\u001b[0m\u001b[0;34m(\u001b[0m\u001b[0mgame\u001b[0m\u001b[0;34m.\u001b[0m\u001b[0mAgentViewPoint\u001b[0m\u001b[0;34m(\u001b[0m\u001b[0;36m1001\u001b[0m\u001b[0;34m)\u001b[0m\u001b[0;34m,\u001b[0m\u001b[0maxis\u001b[0m\u001b[0;34m=\u001b[0m\u001b[0;36m0\u001b[0m\u001b[0;34m)\u001b[0m\u001b[0;34m)\u001b[0m\u001b[0;34m)\u001b[0m\u001b[0;34m\u001b[0m\u001b[0;34m\u001b[0m\u001b[0m\n\u001b[0m",
      "\u001b[0;32m~/APES_PT/APES/World.py\u001b[0m in \u001b[0;36mAgentViewPoint\u001b[0;34m(self, ID)\u001b[0m\n\u001b[1;32m    296\u001b[0m         \u001b[0mReturn\u001b[0m\u001b[0;34m:\u001b[0m\u001b[0;34m\u001b[0m\u001b[0;34m\u001b[0m\u001b[0m\n\u001b[1;32m    297\u001b[0m             * ((WorldSize * BlockSize)*3) Image\"\"\"\n\u001b[0;32m--> 298\u001b[0;31m         \u001b[0marray\u001b[0m \u001b[0;34m=\u001b[0m \u001b[0mself\u001b[0m\u001b[0;34m.\u001b[0m\u001b[0m_GetAgentMap\u001b[0m\u001b[0;34m(\u001b[0m\u001b[0mID\u001b[0m\u001b[0;34m)\u001b[0m\u001b[0;34m\u001b[0m\u001b[0;34m\u001b[0m\u001b[0m\n\u001b[0m\u001b[1;32m    299\u001b[0m         \u001b[0mtotalrows\u001b[0m\u001b[0;34m=\u001b[0m\u001b[0;34m[\u001b[0m\u001b[0;34m]\u001b[0m\u001b[0;34m\u001b[0m\u001b[0;34m\u001b[0m\u001b[0m\n\u001b[1;32m    300\u001b[0m         \u001b[0;32mfor\u001b[0m \u001b[0mrow\u001b[0m \u001b[0;32min\u001b[0m \u001b[0mrange\u001b[0m\u001b[0;34m(\u001b[0m\u001b[0marray\u001b[0m\u001b[0;34m.\u001b[0m\u001b[0mshape\u001b[0m\u001b[0;34m[\u001b[0m\u001b[0;36m0\u001b[0m\u001b[0;34m]\u001b[0m\u001b[0;34m)\u001b[0m\u001b[0;34m:\u001b[0m\u001b[0;34m\u001b[0m\u001b[0;34m\u001b[0m\u001b[0m\n",
      "\u001b[0;32m~/APES_PT/APES/World.py\u001b[0m in \u001b[0;36m_GetAgentMap\u001b[0;34m(self, ID)\u001b[0m\n\u001b[1;32m    315\u001b[0m         \u001b[0mReturn\u001b[0m\u001b[0;34m:\u001b[0m\u001b[0;34m\u001b[0m\u001b[0;34m\u001b[0m\u001b[0m\n\u001b[1;32m    316\u001b[0m             * Array [worldsize/(2*worldsize -1)]\"\"\"\n\u001b[0;32m--> 317\u001b[0;31m         \u001b[0magnt\u001b[0m \u001b[0;34m=\u001b[0m \u001b[0mself\u001b[0m\u001b[0;34m.\u001b[0m\u001b[0magents\u001b[0m\u001b[0;34m[\u001b[0m\u001b[0mID\u001b[0m\u001b[0;34m]\u001b[0m\u001b[0;34m\u001b[0m\u001b[0;34m\u001b[0m\u001b[0m\n\u001b[0m\u001b[1;32m    318\u001b[0m         \u001b[0;32mif\u001b[0m \u001b[0magnt\u001b[0m\u001b[0;34m.\u001b[0m\u001b[0mEgoCentric\u001b[0m\u001b[0;34m:\u001b[0m\u001b[0;34m\u001b[0m\u001b[0;34m\u001b[0m\u001b[0m\n\u001b[1;32m    319\u001b[0m             \u001b[0marray\u001b[0m \u001b[0;34m=\u001b[0m\u001b[0magnt\u001b[0m\u001b[0;34m.\u001b[0m\u001b[0mFullEgoCentric\u001b[0m\u001b[0;34m\u001b[0m\u001b[0;34m\u001b[0m\u001b[0m\n",
      "\u001b[0;31mKeyError\u001b[0m: 1001"
     ]
    }
   ],
   "source": [
    "ax[1].imshow(np.rot90(np.flip(game.AgentViewPoint(1001),axis=0)))"
   ]
  },
  {
   "cell_type": "code",
   "execution_count": 47,
   "metadata": {},
   "outputs": [
    {
     "name": "stdout",
     "output_type": "stream",
     "text": [
      "[[9 0 9 2 0]\n",
      " [9 8 3 3 2]\n",
      " [1 2 7 0 8]\n",
      " [4 5 5 8 2]\n",
      " [8 7 0 2 4]]\n",
      "[[0 2 8 2 4]\n",
      " [2 3 0 8 2]\n",
      " [9 3 7 5 0]\n",
      " [0 8 2 5 7]\n",
      " [9 9 1 4 8]]\n",
      "[[8 7 0 2 4]\n",
      " [4 5 5 8 2]\n",
      " [1 2 7 0 8]\n",
      " [9 8 3 3 2]\n",
      " [9 0 9 2 0]]\n"
     ]
    }
   ],
   "source": [
    "x = np.random.randint(low=0,high=10,size=(5,5))\n",
    "print(x)\n",
    "print(np.rot90(x))\n",
    "print(np.flip(x,axis=0))"
   ]
  },
  {
   "cell_type": "code",
   "execution_count": 12,
   "metadata": {},
   "outputs": [
    {
     "name": "stdout",
     "output_type": "stream",
     "text": [
      "[['L', 'W'], ['M', 'W']]\n"
     ]
    },
    {
     "ename": "KeyError",
     "evalue": "1001",
     "output_type": "error",
     "traceback": [
      "\u001b[0;31m---------------------------------------------------------------------------\u001b[0m",
      "\u001b[0;31mKeyError\u001b[0m                                  Traceback (most recent call last)",
      "\u001b[0;32m<ipython-input-12-f1ef79a8bddd>\u001b[0m in \u001b[0;36m<module>\u001b[0;34m\u001b[0m\n\u001b[1;32m      6\u001b[0m \u001b[0mplt\u001b[0m\u001b[0;34m.\u001b[0m\u001b[0mfigure\u001b[0m\u001b[0;34m(\u001b[0m\u001b[0mfigsize\u001b[0m\u001b[0;34m=\u001b[0m\u001b[0;34m(\u001b[0m\u001b[0;36m10\u001b[0m\u001b[0;34m,\u001b[0m\u001b[0;36m10\u001b[0m\u001b[0;34m)\u001b[0m\u001b[0;34m)\u001b[0m\u001b[0;34m\u001b[0m\u001b[0;34m\u001b[0m\u001b[0m\n\u001b[1;32m      7\u001b[0m \u001b[0mfig\u001b[0m\u001b[0;34m,\u001b[0m\u001b[0max\u001b[0m \u001b[0;34m=\u001b[0m \u001b[0mplt\u001b[0m\u001b[0;34m.\u001b[0m\u001b[0msubplots\u001b[0m\u001b[0;34m(\u001b[0m\u001b[0mnrows\u001b[0m\u001b[0;34m=\u001b[0m\u001b[0;36m1\u001b[0m\u001b[0;34m,\u001b[0m\u001b[0mncols\u001b[0m\u001b[0;34m=\u001b[0m\u001b[0;36m3\u001b[0m\u001b[0;34m)\u001b[0m\u001b[0;34m\u001b[0m\u001b[0;34m\u001b[0m\u001b[0m\n\u001b[0;32m----> 8\u001b[0;31m \u001b[0max\u001b[0m\u001b[0;34m[\u001b[0m\u001b[0;36m0\u001b[0m\u001b[0;34m]\u001b[0m\u001b[0;34m.\u001b[0m\u001b[0mimshow\u001b[0m\u001b[0;34m(\u001b[0m\u001b[0mgame\u001b[0m\u001b[0;34m.\u001b[0m\u001b[0mAgentViewPoint\u001b[0m\u001b[0;34m(\u001b[0m\u001b[0;36m1001\u001b[0m\u001b[0;34m)\u001b[0m\u001b[0;34m)\u001b[0m\u001b[0;34m\u001b[0m\u001b[0;34m\u001b[0m\u001b[0m\n\u001b[0m\u001b[1;32m      9\u001b[0m \u001b[0mt\u001b[0m \u001b[0;34m=\u001b[0m \u001b[0mtime\u001b[0m\u001b[0;34m(\u001b[0m\u001b[0;34m)\u001b[0m\u001b[0;34m\u001b[0m\u001b[0;34m\u001b[0m\u001b[0m\n\u001b[1;32m     10\u001b[0m \u001b[0;32mif\u001b[0m \u001b[0magents\u001b[0m\u001b[0;34m[\u001b[0m\u001b[0;36m1\u001b[0m\u001b[0;34m]\u001b[0m\u001b[0;34m.\u001b[0m\u001b[0mDirection\u001b[0m\u001b[0;34m==\u001b[0m\u001b[0;34m'E'\u001b[0m\u001b[0;34m:\u001b[0m\u001b[0;34m\u001b[0m\u001b[0;34m\u001b[0m\u001b[0m\n",
      "\u001b[0;32m~/APES_PT/APES/World.py\u001b[0m in \u001b[0;36mAgentViewPoint\u001b[0;34m(self, ID)\u001b[0m\n\u001b[1;32m    296\u001b[0m         \u001b[0mReturn\u001b[0m\u001b[0;34m:\u001b[0m\u001b[0;34m\u001b[0m\u001b[0;34m\u001b[0m\u001b[0m\n\u001b[1;32m    297\u001b[0m             * ((WorldSize * BlockSize)*3) Image\"\"\"\n\u001b[0;32m--> 298\u001b[0;31m         \u001b[0marray\u001b[0m \u001b[0;34m=\u001b[0m \u001b[0mself\u001b[0m\u001b[0;34m.\u001b[0m\u001b[0m_GetAgentMap\u001b[0m\u001b[0;34m(\u001b[0m\u001b[0mID\u001b[0m\u001b[0;34m)\u001b[0m\u001b[0;34m\u001b[0m\u001b[0;34m\u001b[0m\u001b[0m\n\u001b[0m\u001b[1;32m    299\u001b[0m         \u001b[0mtotalrows\u001b[0m\u001b[0;34m=\u001b[0m\u001b[0;34m[\u001b[0m\u001b[0;34m]\u001b[0m\u001b[0;34m\u001b[0m\u001b[0;34m\u001b[0m\u001b[0m\n\u001b[1;32m    300\u001b[0m         \u001b[0;32mfor\u001b[0m \u001b[0mrow\u001b[0m \u001b[0;32min\u001b[0m \u001b[0mrange\u001b[0m\u001b[0;34m(\u001b[0m\u001b[0marray\u001b[0m\u001b[0;34m.\u001b[0m\u001b[0mshape\u001b[0m\u001b[0;34m[\u001b[0m\u001b[0;36m0\u001b[0m\u001b[0;34m]\u001b[0m\u001b[0;34m)\u001b[0m\u001b[0;34m:\u001b[0m\u001b[0;34m\u001b[0m\u001b[0;34m\u001b[0m\u001b[0m\n",
      "\u001b[0;32m~/APES_PT/APES/World.py\u001b[0m in \u001b[0;36m_GetAgentMap\u001b[0;34m(self, ID)\u001b[0m\n\u001b[1;32m    315\u001b[0m         \u001b[0mReturn\u001b[0m\u001b[0;34m:\u001b[0m\u001b[0;34m\u001b[0m\u001b[0;34m\u001b[0m\u001b[0m\n\u001b[1;32m    316\u001b[0m             * Array [worldsize/(2*worldsize -1)]\"\"\"\n\u001b[0;32m--> 317\u001b[0;31m         \u001b[0magnt\u001b[0m \u001b[0;34m=\u001b[0m \u001b[0mself\u001b[0m\u001b[0;34m.\u001b[0m\u001b[0magents\u001b[0m\u001b[0;34m[\u001b[0m\u001b[0mID\u001b[0m\u001b[0;34m]\u001b[0m\u001b[0;34m\u001b[0m\u001b[0;34m\u001b[0m\u001b[0m\n\u001b[0m\u001b[1;32m    318\u001b[0m         \u001b[0;32mif\u001b[0m \u001b[0magnt\u001b[0m\u001b[0;34m.\u001b[0m\u001b[0mEgoCentric\u001b[0m\u001b[0;34m:\u001b[0m\u001b[0;34m\u001b[0m\u001b[0;34m\u001b[0m\u001b[0m\n\u001b[1;32m    319\u001b[0m             \u001b[0marray\u001b[0m \u001b[0;34m=\u001b[0m\u001b[0magnt\u001b[0m\u001b[0;34m.\u001b[0m\u001b[0mFullEgoCentric\u001b[0m\u001b[0;34m\u001b[0m\u001b[0;34m\u001b[0m\u001b[0m\n",
      "\u001b[0;31mKeyError\u001b[0m: 1001"
     ]
    },
    {
     "data": {
      "text/plain": [
       "<Figure size 720x720 with 0 Axes>"
      ]
     },
     "metadata": {},
     "output_type": "display_data"
    },
    {
     "data": {
      "image/png": "[encoded data removed]",
      "text/plain": [
       "<Figure size 432x288 with 3 Axes>"
      ]
     },
     "metadata": {
      "needs_background": "light"
     },
     "output_type": "display_data"
    }
   ],
   "source": [
    "#agents[0].NextAction = Settings.PossibleActions[1]\n",
    "ac_num = 2\n",
    "print(Settings.PossibleActions[ac_num])\n",
    "agents[1].NextAction = Settings.PossibleActions[ac_num]\n",
    "game.Step()\n",
    "plt.figure(figsize=(10,10))\n",
    "fig,ax = plt.subplots(nrows=1,ncols=3)\n",
    "ax[0].imshow(game.AgentViewPoint(1001))\n",
    "t = time()\n",
    "if agents[1].Direction=='E':\n",
    "    ax[1].imshow(np.rot90(game.AgentViewPoint(1001)))\n",
    "elif agents[1].Direction=='S':\n",
    "    ax[1].imshow(np.flip(game.AgentViewPoint(1001),axis=0))\n",
    "elif agents[1].Direction=='W':\n",
    "    ax[1].imshow(np.flip(np.rot90(game.AgentViewPoint(1001)),axis=0))\n",
    "else:\n",
    "    ax[1].imshow(game.AgentViewPoint(1001))\n",
    "print(time()-t)\n",
    "ax[2].imshow(game.BuildImage())\n",
    "ax\n",
    "fig.set_figheight(15)\n",
    "fig.set_figwidth(15)\n",
    "plt.show()"
   ]
  },
  {
   "cell_type": "code",
   "execution_count": 2,
   "metadata": {},
   "outputs": [
    {
     "data": {
      "image/png": "[encoded data removed]",
      "text/plain": [
       "<Figure size 1080x1080 with 2 Axes>"
      ]
     },
     "metadata": {},
     "output_type": "display_data"
    }
   ],
   "source": [
    "perf = {'sub':(2,1),'dom':(2,10),'food':(3,4),'obs':(3,5),'subdir':'W','domdir':'E','mesg':'example'}\n",
    "game = CreateEnvironment(perf)\n",
    "\n",
    "agents = [game.agents[i] for i in game.agents]\n",
    "\n",
    "game.Step()\n",
    "env_initial = game.BuildImage()\n",
    "\n",
    "#Execute every time step\n",
    "agents[0].NextAction = Settings.PossibleActions[2]\n",
    "agents[1].NextAction = Settings.PossibleActions[3]\n",
    "\n",
    "game.Step()\n",
    "env_1step = game.BuildImage()\n",
    "\n",
    "fig,ax = plt.subplots(nrows=1,ncols=2)\n",
    "ax[0].imshow(env_initial)\n",
    "ax[1].imshow(env_1step)\n",
    "fig.set_figheight(15)\n",
    "fig.set_figwidth(15)\n",
    "plt.show()"
   ]
  },
  {
   "cell_type": "markdown",
   "metadata": {},
   "source": [
    "# Complex Example.\n",
    "Launching the below cell will generate a video file \"output.mp4\" contains the episode. The video has three perspectives next to each other in every frame:\n",
    " 1. The fully observed environment.\n",
    " 2. The environment as seen from the red agent point of view\n",
    " 3. The environment as seen from the blue agent point of view"
   ]
  },
  {
   "cell_type": "code",
   "execution_count": 3,
   "metadata": {
    "scrolled": true
   },
   "outputs": [
    {
     "name": "stderr",
     "output_type": "stream",
     "text": [
      "/home/aqeel/miniconda3/envs/Kgpu/lib/python3.6/site-packages/skimage/transform/_warps.py:110: UserWarning: Anti-aliasing will be enabled by default in skimage 0.15 to avoid aliasing artifacts when down-sampling images.\n",
      "  warn(\"Anti-aliasing will be enabled by default in skimage 0.15 to \"\n"
     ]
    },
    {
     "data": {
      "image/png": "[encoded data removed]",
      "text/plain": [
       "<Figure size 1080x1080 with 2 Axes>"
      ]
     },
     "metadata": {},
     "output_type": "display_data"
    }
   ],
   "source": [
    "#Add pictures for items\n",
    "Settings.AddImage('Wall','APES/Pics/wall.jpg')\n",
    "Settings.AddImage('Food','APES/Pics/food.jpg')\n",
    "\n",
    "#Create Probability distribution matrices (PDMs)\n",
    "obs_pdm = np.zeros(Settings.WorldSize)\n",
    "agnts_pdm = np.zeros(Settings.WorldSize)\n",
    "food_pdm = np.zeros(Settings.WorldSize)\n",
    "\n",
    "# Obstacles can appear from 3rd to 7th row and 5th column\n",
    "obs_pdm[3:8,5] = 1 \n",
    "agnts_pdm[2,[0,10]] = 1\n",
    "food_pdm[:,4:7] = 1\n",
    "\n",
    "#Add PDMs to Settings\n",
    "Settings.AddProbabilityDistribution('Obs_pdm',obs_pdm) \n",
    "Settings.AddProbabilityDistribution('agnts_pdm',agnts_pdm)\n",
    "Settings.AddProbabilityDistribution('food_pdm',food_pdm)\n",
    "\n",
    "#Create World Elements\n",
    "#Create vertical obastacle with length 4\n",
    "obshape = np.ones((4,1))\n",
    "obs = Obstacles('Wall',Shape=obshape,PdstName='Obs_pdm')\n",
    "\n",
    "#Create two agents\n",
    "ragnt = Agent(Fname='APES/Pics/red.jpg',PdstName='agnts_pdm')\n",
    "bagnt = Agent(Fname='APES/Pics/blue.jpg',PdstName='agnts_pdm')\n",
    "food = Foods('Food',PdstName='food_pdm')\n",
    "\n",
    "#Reward food by 10, time step by -0.1\n",
    "game = World(RewardsScheme=[0,10,-0.1])\n",
    "\n",
    "#Adding Agents in Order of Following the action\n",
    "game.AddAgents([ragnt,bagnt])\n",
    "game.AddObstacles([obs])\n",
    "game.AddFoods([food])\n",
    "\n",
    "#Execute at the beginning of every episode\n",
    "game.GenerateWorld()\n",
    "game.Step()\n",
    "env_initial = np.concatenate([game.BuildImage(),\n",
    "                              game.AgentViewPoint(ragnt.ID),\n",
    "                              game.AgentViewPoint(bagnt.ID)],axis=1)*255\n",
    "\n",
    "writer = skvideo.io.FFmpegWriter(\"output.mp4\")\n",
    "writer.writeFrame(env_initial)\n",
    "\n",
    "#Execute every time step\n",
    "while not game.Terminated[0]:\n",
    "    bagnt.DetectAndAstar()\n",
    "    ragnt.DetectAndAstar()\n",
    "    game.Step()\n",
    "    env_1step = np.concatenate([game.BuildImage(),\n",
    "                                game.AgentViewPoint(ragnt.ID),\n",
    "                                game.AgentViewPoint(bagnt.ID)],axis=1)*255\n",
    "    writer.writeFrame(env_1step)\n",
    "writer.close()\n",
    "\n",
    "fig,ax = plt.subplots(nrows=1,ncols=2)\n",
    "ax[0].imshow(env_initial/255)\n",
    "ax[1].imshow(env_1step/255)\n",
    "fig.set_figheight(15)\n",
    "fig.set_figwidth(15)\n",
    "plt.show()"
   ]
  }
 ],
 "metadata": {
  "anaconda-cloud": {},
  "kernelspec": {
   "display_name": "Python 3",
   "language": "python",
   "name": "python3"
  },
  "language_info": {
   "codemirror_mode": {
    "name": "ipython",
    "version": 3
   },
   "file_extension": ".py",
   "mimetype": "text/x-python",
   "name": "python",
   "nbconvert_exporter": "python",
   "pygments_lexer": "ipython3",
   "version": "3.7.5"
  }
 },
 "nbformat": 4,
 "nbformat_minor": 2
}
