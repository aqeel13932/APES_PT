{
 "cells": [
  {
   "cell_type": "code",
   "execution_count": 1,
   "metadata": {},
   "outputs": [
    {
     "name": "stderr",
     "output_type": "stream",
     "text": [
      "Using Theano backend.\n",
      "/gpfs/hpchome/labash/miniconda3/envs/PT/lib/python3.5/site-packages/keras/models.py:255: UserWarning: No training configuration found in save file: the model was *not* compiled. Compile it manually.\n",
      "  warnings.warn('No training configuration found in save file: '\n"
     ]
    }
   ],
   "source": [
    "from keras.layers import Input,Dense,Lambda,concatenate\n",
    "from keras.models import load_model,Model\n",
    "import numpy as np\n",
    "RL_mod = load_model('output/541/MOD/model.h5')\n",
    "RL_tar = load_model('output/541/MOD/target_model.h5')\n",
    "SL_mod = load_model('Read_out/Supervised_models/X1_mod_single_3cat.h5')"
   ]
  },
  {
   "cell_type": "code",
   "execution_count": 2,
   "metadata": {
    "scrolled": false
   },
   "outputs": [
    {
     "name": "stdout",
     "output_type": "stream",
     "text": [
      "_________________________________________________________________\n",
      "Layer (type)                 Output Shape              Param #   \n",
      "=================================================================\n",
      "input_1 (InputLayer)         (None, 633)               0         \n",
      "_________________________________________________________________\n",
      "dense_1 (Dense)              (None, 100)               63400     \n",
      "_________________________________________________________________\n",
      "dense_2 (Dense)              (None, 6)                 606       \n",
      "_________________________________________________________________\n",
      "lambda_1 (Lambda)            (None, 5)                 0         \n",
      "=================================================================\n",
      "Total params: 64,006\n",
      "Trainable params: 64,006\n",
      "Non-trainable params: 0\n",
      "_________________________________________________________________\n"
     ]
    }
   ],
   "source": [
    "RL_mod.summary()"
   ]
  },
  {
   "cell_type": "code",
   "execution_count": 3,
   "metadata": {},
   "outputs": [
    {
     "name": "stdout",
     "output_type": "stream",
     "text": [
      "_________________________________________________________________\n",
      "Layer (type)                 Output Shape              Param #   \n",
      "=================================================================\n",
      "input_2 (InputLayer)         (None, 633)               0         \n",
      "_________________________________________________________________\n",
      "dense_5 (Dense)              (None, 100)               63400     \n",
      "_________________________________________________________________\n",
      "dense_6 (Dense)              (None, 3)                 303       \n",
      "=================================================================\n",
      "Total params: 63,703\n",
      "Trainable params: 63,703\n",
      "Non-trainable params: 0\n",
      "_________________________________________________________________\n"
     ]
    }
   ],
   "source": [
    "SL_mod.summary()"
   ]
  },
  {
   "cell_type": "code",
   "execution_count": 4,
   "metadata": {},
   "outputs": [
    {
     "name": "stdout",
     "output_type": "stream",
     "text": [
      "_________________________________________________________________\n",
      "Layer (type)                 Output Shape              Param #   \n",
      "=================================================================\n",
      "input_2 (InputLayer)         (None, 633)               0         \n",
      "_________________________________________________________________\n",
      "dense_3 (Dense)              (None, 100)               63400     \n",
      "_________________________________________________________________\n",
      "dense_4 (Dense)              (None, 6)                 606       \n",
      "_________________________________________________________________\n",
      "lambda_2 (Lambda)            (None, 5)                 0         \n",
      "=================================================================\n",
      "Total params: 64,006\n",
      "Trainable params: 64,006\n",
      "Non-trainable params: 0\n",
      "_________________________________________________________________\n"
     ]
    }
   ],
   "source": [
    "RL_tar.summary()"
   ]
  },
  {
   "cell_type": "markdown",
   "metadata": {},
   "source": [
    "## Final model"
   ]
  },
  {
   "cell_type": "code",
   "execution_count": 30,
   "metadata": {},
   "outputs": [],
   "source": [
    "def Merge_RL_SL(RL_mod,SL_mod):\n",
    "    #Get the wanted layers.\n",
    "    sll = SL_mod.get_layer(index=1)\n",
    "    sll.name='SL_L'\n",
    "    #Set supervized weights to be untrainable\n",
    "    sll.trainable=False\n",
    "    rll1 = RL_mod.get_layer(index=1)\n",
    "    rll1.name='RL_L'\n",
    "    rll2 = RL_mod.get_layer(index=2)\n",
    "    rll2.name='RL_out'\n",
    "    lambd=RL_mod.get_layer(index=3)\n",
    "    lambd.name = 'RL_lamd_final'\n",
    "\n",
    "    #Build the new model\n",
    "    x = Input((633,))\n",
    "    rl_way = rll1(x)\n",
    "    sl_way = sll(x)\n",
    "    sl_way = Dense(64,activation='tanh',name='SL_Dense64')(sl_way)\n",
    "    sl_way = Dense(16,activation='tanh',name='SL_Dense16')(sl_way)\n",
    "    merged = concatenate([rl_way,sl_way])\n",
    "    output=Dense(6,name='output')(merged)\n",
    "    out = lambd(output)\n",
    "    fm = Model(inputs=[x],outputs=[out])\n",
    "    #return fm\n",
    "    #Update Dense layer weights\n",
    "    w = fm.get_weights()\n",
    "    w[8][:100,:] = RL_mod.get_weights()[2] #Kernel\n",
    "    w[9] = RL_mod.get_weights()[3] #Bias\n",
    "    fm.set_weights(w)\n",
    "    return fm"
   ]
  },
  {
   "cell_type": "code",
   "execution_count": 31,
   "metadata": {},
   "outputs": [],
   "source": [
    "fm = Merge_RL_SL(RL_mod,SL_mod)"
   ]
  },
  {
   "cell_type": "code",
   "execution_count": 32,
   "metadata": {},
   "outputs": [
    {
     "name": "stdout",
     "output_type": "stream",
     "text": [
      "__________________________________________________________________________________________________\n",
      "Layer (type)                    Output Shape         Param #     Connected to                     \n",
      "==================================================================================================\n",
      "input_6 (InputLayer)            (None, 633)          0                                            \n",
      "__________________________________________________________________________________________________\n",
      "SL_L (Dense)                    (None, 100)          63400       input_6[0][0]                    \n",
      "__________________________________________________________________________________________________\n",
      "SL_Dense64 (Dense)              (None, 64)           6464        SL_L[6][0]                       \n",
      "__________________________________________________________________________________________________\n",
      "RL_L (Dense)                    (None, 100)          63400       input_6[0][0]                    \n",
      "__________________________________________________________________________________________________\n",
      "SL_Dense16 (Dense)              (None, 16)           1040        SL_Dense64[0][0]                 \n",
      "__________________________________________________________________________________________________\n",
      "concatenate_6 (Concatenate)     (None, 116)          0           RL_L[6][0]                       \n",
      "                                                                 SL_Dense16[0][0]                 \n",
      "__________________________________________________________________________________________________\n",
      "output (Dense)                  (None, 6)            702         concatenate_6[0][0]              \n",
      "__________________________________________________________________________________________________\n",
      "RL_lamd_final (Lambda)          (None, 5)            0           output[0][0]                     \n",
      "==================================================================================================\n",
      "Total params: 135,006\n",
      "Trainable params: 71,606\n",
      "Non-trainable params: 63,400\n",
      "__________________________________________________________________________________________________\n"
     ]
    }
   ],
   "source": [
    "fm.summary()"
   ]
  },
  {
   "cell_type": "code",
   "execution_count": 11,
   "metadata": {},
   "outputs": [],
   "source": [
    "tar = Merge_RL_SL(RL_tar,SL_mod)"
   ]
  },
  {
   "cell_type": "code",
   "execution_count": 27,
   "metadata": {},
   "outputs": [],
   "source": [
    "w = tar.get_weights()\n",
    "w[4][100:] = fm.get_weights()[4][100:]\n",
    "tar.set_weights(w)"
   ]
  },
  {
   "cell_type": "code",
   "execution_count": 10,
   "metadata": {},
   "outputs": [
    {
     "name": "stdout",
     "output_type": "stream",
     "text": [
      "__________________________________________________________________________________________________\n",
      "Layer (type)                    Output Shape         Param #     Connected to                     \n",
      "==================================================================================================\n",
      "input_3 (InputLayer)            (None, 633)          0                                            \n",
      "__________________________________________________________________________________________________\n",
      "RL_L (Dense)                    (None, 100)          63400       input_3[0][0]                    \n",
      "__________________________________________________________________________________________________\n",
      "SL_L (Dense)                    (None, 100)          63400       input_3[0][0]                    \n",
      "__________________________________________________________________________________________________\n",
      "concatenate_3 (Concatenate)     (None, 200)          0           RL_L[3][0]                       \n",
      "                                                                 SL_L[3][0]                       \n",
      "__________________________________________________________________________________________________\n",
      "output (Dense)                  (None, 6)            1206        concatenate_3[0][0]              \n",
      "__________________________________________________________________________________________________\n",
      "RL_lamd_final (Lambda)          (None, 5)            0           output[0][0]                     \n",
      "==================================================================================================\n",
      "Total params: 128,006\n",
      "Trainable params: 64,606\n",
      "Non-trainable params: 63,400\n",
      "__________________________________________________________________________________________________\n"
     ]
    }
   ],
   "source": [
    "fm.summary()"
   ]
  }
 ],
 "metadata": {
  "kernelspec": {
   "display_name": "Python 3",
   "language": "python",
   "name": "python3"
  },
  "language_info": {
   "codemirror_mode": {
    "name": "ipython",
    "version": 3
   },
   "file_extension": ".py",
   "mimetype": "text/x-python",
   "name": "python",
   "nbconvert_exporter": "python",
   "pygments_lexer": "ipython3",
   "version": "3.5.4"
  }
 },
 "nbformat": 4,
 "nbformat_minor": 2
}
