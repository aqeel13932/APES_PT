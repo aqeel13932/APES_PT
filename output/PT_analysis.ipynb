{
 "cells": [
  {
   "cell_type": "code",
   "execution_count": 35,
   "metadata": {},
   "outputs": [],
   "source": [
    "import pandas as pd\n",
    "import operator\n",
    "from prettytable import PrettyTable\n",
    "def Model_Statistics(model,typ):\n",
    "    global x\n",
    "    tmp = x[(x.Model==model)&(x.Type==typ)]\n",
    "    eaten = tmp[(tmp.Reward>0)]\n",
    "    eaten_all = eaten.shape[0]\n",
    "    \n",
    "    avoided = tmp[(tmp.Reward<0)]\n",
    "    avoided_all = avoided.shape[0]\n",
    "    eaten_leg = eaten[(eaten.I_C_DOM==0)|(eaten.DOM_C_FOOD==0)].shape[0]\n",
    "    eaten_ileg= eaten[(eaten.I_C_DOM==1)&(eaten.DOM_C_FOOD==1)].shape[0]\n",
    "\n",
    "    #avoided_leg=avoided[(avoided.DOM_C_FOOD==1)].shape[0]\n",
    "    avoided_leg=avoided[(avoided.DOM_C_FOOD==1)&(avoided.I_C_DOM==1)].shape[0]\n",
    "    avoided_ileg=avoided[(avoided.DOM_C_FOOD==0)].shape[0]\n",
    "    \n",
    "    return round(eaten_leg/eaten_all,2),round(avoided_leg/avoided_all,2),round((eaten_leg+avoided_leg)/(eaten_all+avoided_all),2)"
   ]
  },
  {
   "cell_type": "code",
   "execution_count": 31,
   "metadata": {},
   "outputs": [],
   "source": [
    "tmp = x[(x.Model==1515)&(x.Type=='train')]"
   ]
  },
  {
   "cell_type": "code",
   "execution_count": 22,
   "metadata": {},
   "outputs": [],
   "source": [
    "z = pd.read_csv('Models_Test.csv')\n",
    "y = pd.read_csv('Models_Test_old.csv')\n",
    "x = pd.concat([z,y])"
   ]
  },
  {
   "cell_type": "code",
   "execution_count": 36,
   "metadata": {},
   "outputs": [],
   "source": [
    "T= PrettyTable(['Mdl','Stps','Avg reward','eaten_leg','avoided_leg','total'])\n",
    "for j in x.Model.unique():\n",
    "    #for i in ['train']:\n",
    "    for i in ['train']:#x.Type.unique():\n",
    "        info = Model_Statistics(j,i)\n",
    "        T.add_row([j,'500K' if j<1000 else '2M',x[(x.Model==j)&(x.Type==i)].Reward.mean(),info[0],info[1],info[2]])"
   ]
  },
  {
   "cell_type": "code",
   "execution_count": 37,
   "metadata": {},
   "outputs": [
    {
     "name": "stdout",
     "output_type": "stream",
     "text": [
      "+------+------+------------+-----------+-------------+-------+\n",
      "| Mdl  | Stps | Avg reward | eaten_leg | avoided_leg | total |\n",
      "+------+------+------------+-----------+-------------+-------+\n",
      "| 595  | 500K | 424.051475 |    0.43   |     0.41    |  0.42 |\n",
      "| 596  | 500K | 445.900175 |    0.42   |     0.35    |  0.38 |\n",
      "| 597  | 500K | 425.44815  |    0.41   |     0.38    |  0.39 |\n",
      "| 598  | 500K | 433.055175 |    0.4    |     0.35    |  0.38 |\n",
      "| 599  | 500K | 426.998575 |    0.38   |     0.38    |  0.38 |\n",
      "| 600  | 500K | 442.10205  |    0.39   |     0.37    |  0.38 |\n",
      "| 601  | 500K | 421.42505  |    0.41   |     0.32    |  0.36 |\n",
      "| 1511 |  2M  | 444.38005  |    1.0    |     0.0     |  0.47 |\n",
      "| 1512 |  2M  |  286.548   |    1.0    |     0.0     |  0.43 |\n",
      "| 1513 |  2M  | 409.401325 |    1.0    |     0.0     |  0.46 |\n",
      "| 1514 |  2M  | 430.004925 |    1.0    |     0.0     |  0.46 |\n",
      "| 1515 |  2M  | 327.854075 |    1.0    |     0.0     |  0.42 |\n",
      "| 1516 |  2M  | 392.554775 |    1.0    |     0.0     |  0.46 |\n",
      "| 1517 |  2M  | 444.955375 |    1.0    |     0.0     |  0.47 |\n",
      "+------+------+------------+-----------+-------------+-------+\n"
     ]
    }
   ],
   "source": [
    "print(T.get_string(sort_key=operator.itemgetter(0, 4), sortby=\"Mdl\"))"
   ]
  }
 ],
 "metadata": {
  "kernelspec": {
   "display_name": "Python 3",
   "language": "python",
   "name": "python3"
  },
  "language_info": {
   "codemirror_mode": {
    "name": "ipython",
    "version": 3
   },
   "file_extension": ".py",
   "mimetype": "text/x-python",
   "name": "python",
   "nbconvert_exporter": "python",
   "pygments_lexer": "ipython3",
   "version": "3.5.4"
  }
 },
 "nbformat": 4,
 "nbformat_minor": 2
}
