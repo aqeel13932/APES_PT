{
 "cells": [
  {
   "cell_type": "code",
   "execution_count": 1,
   "metadata": {
    "collapsed": true
   },
   "outputs": [],
   "source": [
    "import pandas as pd\n",
    "import os"
   ]
  },
  {
   "cell_type": "markdown",
   "metadata": {},
   "source": [
    "## Read all new general feature and set them in csv data set"
   ]
  },
  {
   "cell_type": "code",
   "execution_count": 2,
   "metadata": {
    "collapsed": false
   },
   "outputs": [],
   "source": [
    "source = open('tmp/features.results.out')\n",
    "lines = [x.strip() for x in source.readlines()]\n",
    "lines = ['{},{}{}'.format(lines[i],lines[i+1],'\\n') for i in range(0,len(lines),2)]\n",
    "lines = [i.replace('[','\"[') for i in lines]\n",
    "lines = [i.replace(']',']\"') for i in lines]\n",
    "target = open('tmp/semifinal.csv','w')\n",
    "lines = ['experiment,reply_size,layers,tau,optimizer,advantage,max_steps,activation,batch_size,totalsteps,exploration,vanish,gamma,hidden_size,train_repeat,batch_norm,seed,rwrdschem,svision,details\\n']+lines\n",
    "target.writelines(lines)\n",
    "target.close()"
   ]
  },
  {
   "cell_type": "markdown",
   "metadata": {},
   "source": [
    "## Add Experiment details.\n",
    "* Train :\n",
    "    * count\n",
    "    * Total Reward\n",
    "    * Total step\n",
    "    * Total time\n",
    "    \n",
    "* Test:\n",
    "    * count\n",
    "    * Total Reward\n",
    "    * Total step\n",
    "    * Total time"
   ]
  },
  {
   "cell_type": "code",
   "execution_count": 3,
   "metadata": {
    "collapsed": true
   },
   "outputs": [],
   "source": [
    "x = pd.read_csv('tmp/semifinal.csv')"
   ]
  },
  {
   "cell_type": "code",
   "execution_count": 4,
   "metadata": {
    "collapsed": true
   },
   "outputs": [],
   "source": [
    "#Train information\n",
    "# Episodes count\n",
    "x['tr_count']=0\n",
    "# Total Reward (sum over all epsidoes)\n",
    "x['tr_TR']=0\n",
    "# Total Time (sum over all episodes)\n",
    "x['tr_TT']=0\n",
    "# Total steps (sum over all episodes)\n",
    "x['tr_TS']=0\n",
    "#Test Information\n",
    "# Episodes count\n",
    "x['ts_count']=0\n",
    "# Total Reward (sum over all epsidoes)\n",
    "x['ts_TR']=0\n",
    "# Total Time (sum over all episodes)\n",
    "x['ts_TT']=0\n",
    "# Total steps (sum over all episodes)\n",
    "x['ts_TS']=0"
   ]
  },
  {
   "cell_type": "code",
   "execution_count": 5,
   "metadata": {
    "collapsed": false,
    "scrolled": true
   },
   "outputs": [
    {
     "name": "stdout",
     "output_type": "stream",
     "text": [
      "87\n",
      "90\n",
      "92\n",
      "89\n",
      "93\n",
      "91\n",
      "88\n",
      "84\n",
      "82\n",
      "85\n",
      "83\n",
      "81\n",
      "86\n",
      "95\n",
      "96\n",
      "94\n",
      "98\n",
      "99\n",
      "97\n",
      "103\n",
      "102\n",
      "101\n",
      "100\n",
      "105\n",
      "104\n",
      "106\n",
      "107\n",
      "110\n",
      "112\n",
      "113\n",
      "108\n",
      "109\n",
      "111\n",
      "114\n",
      "116\n",
      "118\n",
      "115\n",
      "119\n",
      "117\n",
      "122\n",
      "121\n",
      "124\n",
      "123\n",
      "120\n",
      "125\n",
      "130\n",
      "131\n",
      "127\n",
      "129\n",
      "128\n",
      "126\n",
      "137\n",
      "133\n",
      "134\n",
      "135\n",
      "132\n",
      "136\n",
      "142\n",
      "139\n",
      "138\n",
      "140\n",
      "143\n",
      "141\n",
      "144\n",
      "145\n",
      "146\n",
      "147\n",
      "148\n",
      "149\n",
      "150\n",
      "151\n",
      "152\n",
      "153\n",
      "154\n",
      "155\n",
      "157\n",
      "156\n",
      "158\n",
      "159\n",
      "160\n",
      "161\n",
      "162\n",
      "163\n",
      "164\n",
      "165\n",
      "166\n",
      "167\n"
     ]
    }
   ],
   "source": [
    "for i in x.experiment.as_matrix():\n",
    "    exp = pd.read_csv('tmp/{}/exp_details.csv'.format(i),header=None)\n",
    "    train = exp[exp[7]=='train']\n",
    "    test = exp[exp[7]=='Test']\n",
    "    indx = x[x['experiment']==i].index[0]\n",
    "    x.set_value(indx, 'tr_count',train.shape[0])\n",
    "    x.set_value(indx, 'tr_TR',train[2].sum())\n",
    "    x.set_value(indx, 'tr_TT',train[3].sum())\n",
    "    x.set_value(indx, 'tr_TS',train[1].sum())\n",
    "    \n",
    "    x.set_value(indx, 'ts_count',test.shape[0])\n",
    "    x.set_value(indx, 'ts_TR',test[2].sum())\n",
    "    x.set_value(indx, 'ts_TT',test[3].sum())\n",
    "    x.set_value(indx, 'ts_TS',test[1].sum())\n",
    "    print(i)"
   ]
  },
  {
   "cell_type": "code",
   "execution_count": 6,
   "metadata": {
    "collapsed": true
   },
   "outputs": [],
   "source": [
    "x.to_csv('tmp/semifinal.csv',index=False)"
   ]
  },
  {
   "cell_type": "markdown",
   "metadata": {},
   "source": [
    "## Merge current results with Final.csv and sort the result."
   ]
  },
  {
   "cell_type": "code",
   "execution_count": 7,
   "metadata": {
    "collapsed": true
   },
   "outputs": [],
   "source": [
    "Final = pd.read_csv('Final.csv')"
   ]
  },
  {
   "cell_type": "code",
   "execution_count": 8,
   "metadata": {
    "collapsed": false
   },
   "outputs": [
    {
     "name": "stdout",
     "output_type": "stream",
     "text": [
      "new data shape:(87, 28),old data shape:(80, 28)\n",
      "new Full shape: (167, 28)\n"
     ]
    }
   ],
   "source": [
    "print('new data shape:{},old data shape:{}'.format(x.shape,Final.shape))\n",
    "Final = pd.concat([Final,x])\n",
    "print('new Full shape:',Final.shape)\n",
    "Final.sort_values('experiment',inplace=True)\n",
    "Final.to_csv('Final.csv',index=False)"
   ]
  }
 ],
 "metadata": {
  "kernelspec": {
   "display_name": "Python 3",
   "language": "python",
   "name": "python3"
  },
  "language_info": {
   "codemirror_mode": {
    "name": "ipython",
    "version": 3
   },
   "file_extension": ".py",
   "mimetype": "text/x-python",
   "name": "python",
   "nbconvert_exporter": "python",
   "pygments_lexer": "ipython3",
   "version": "3.5.2"
  },
  "widgets": {
   "state": {},
   "version": "1.1.2"
  }
 },
 "nbformat": 4,
 "nbformat_minor": 0
}
