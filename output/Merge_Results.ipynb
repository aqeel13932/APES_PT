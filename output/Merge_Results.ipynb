{
 "cells": [
  {
   "cell_type": "code",
   "execution_count": 1,
   "metadata": {
    "collapsed": true
   },
   "outputs": [],
   "source": [
    "import pandas as pd\n",
    "import os\n",
    "from Test_Functions import ReadCSV"
   ]
  },
  {
   "cell_type": "markdown",
   "metadata": {},
   "source": [
    "## Read all new general feature and set them in csv data set"
   ]
  },
  {
   "cell_type": "code",
   "execution_count": 2,
   "metadata": {
    "collapsed": false
   },
   "outputs": [],
   "source": [
    "source = open('features.results.out')\n",
    "lines = [x.strip() for x in source.readlines()]\n",
    "lines = ['{},{}{}'.format(lines[i],lines[i+1],'\\n') for i in range(0,len(lines),2)]\n",
    "lines = [i.replace('[','\"[') for i in lines]\n",
    "lines = [i.replace(']',']\"') for i in lines]\n",
    "target = open('semifinal.csv','w')\n",
    "lines = ['experiment,reply_size,layers,tau,optimizer,advantage,max_steps,activation,batch_size,totalsteps,exploration,vanish,gamma,hidden_size,train_repeat,batch_norm,seed,rwrdschem,svision,details\\n']+lines\n",
    "target.writelines(lines)\n",
    "target.close()"
   ]
  },
  {
   "cell_type": "markdown",
   "metadata": {},
   "source": [
    "## Add Experiment details.\n",
    "* Train :\n",
    "    * count\n",
    "    * Total Reward\n",
    "    * Total step\n",
    "    * Total time\n",
    "    \n",
    "* Test:\n",
    "    * count\n",
    "    * Total Reward\n",
    "    * Total step\n",
    "    * Total time"
   ]
  },
  {
   "cell_type": "code",
   "execution_count": 3,
   "metadata": {
    "collapsed": true
   },
   "outputs": [],
   "source": [
    "x = pd.read_csv('semifinal.csv')"
   ]
  },
  {
   "cell_type": "code",
   "execution_count": 4,
   "metadata": {
    "collapsed": true
   },
   "outputs": [],
   "source": [
    "#Train information\n",
    "# Episodes count\n",
    "x['tr_count']=0\n",
    "# Total Reward (sum over all epsidoes)\n",
    "x['tr_TR']=0\n",
    "# Total Time (sum over all episodes)\n",
    "x['tr_TT']=0\n",
    "# Total steps (sum over all episodes)\n",
    "x['tr_TS']=0\n",
    "#Test Information\n",
    "# Episodes count\n",
    "x['ts_count']=0\n",
    "# Total Reward (sum over all epsidoes)\n",
    "x['ts_TR']=0\n",
    "# Total Time (sum over all episodes)\n",
    "x['ts_TT']=0\n",
    "# Total steps (sum over all episodes)\n",
    "x['ts_TS']=0\n",
    "# percentage of training episodes with positive reward\n",
    "x['tr_s']=0\n",
    "# percentage of testing episodes with positive reward\n",
    "x['ts_s']=0\n",
    "\n",
    "x['tr_AR'] = 0.0\n",
    "x['tr_AS'] = 0.0\n",
    "x['ts_AR'] = 0.0\n",
    "x['ts_AS'] = 0.0\n",
    "#training Steps median after exploration vanish.\n",
    "x['tr_SMD']=0.0\n",
    "#training Steps mean after exploration vanish.\n",
    "x['tr_SM']=0.0\n",
    "#training Reward median after exploration vanish.\n",
    "x['tr_RMD']=0.0\n",
    "#training Reward mean after exploration vanish.\n",
    "x['tr_RM']=0.0\n",
    "#testing Steps median after exploration vanish.\n",
    "x['ts_SMD']=0.0\n",
    "#testing Steps mean after exploration vanish.\n",
    "x['ts_SM']=0.0\n",
    "#testing Reward median after exploration vanish.\n",
    "x['ts_RMD']=0.0\n",
    "#testing Reward mean after exploration vanish.\n",
    "x['ts_RM']=0.0"
   ]
  },
  {
   "cell_type": "code",
   "execution_count": 5,
   "metadata": {
    "collapsed": false,
    "scrolled": true
   },
   "outputs": [
    {
     "name": "stdout",
     "output_type": "stream",
     "text": [
      "353\n",
      "354\n",
      "355\n",
      "351\n",
      "350\n",
      "352\n",
      "349\n",
      "372\n",
      "375\n",
      "374\n",
      "371\n",
      "367\n",
      "373\n",
      "364\n",
      "369\n",
      "363\n",
      "370\n",
      "361\n",
      "368\n",
      "365\n",
      "362\n",
      "360\n",
      "358\n",
      "356\n",
      "366\n",
      "359\n",
      "357\n",
      "383\n",
      "379\n",
      "376\n",
      "380\n",
      "381\n",
      "382\n",
      "378\n",
      "377\n"
     ]
    }
   ],
   "source": [
    "for i in x.experiment.as_matrix():\n",
    "    train,test,splitpoint = ReadCSV(i,x[x.experiment==i].vanish.as_matrix())\n",
    "    \n",
    "    indx = x[x['experiment']==i].index[0]\n",
    "    x.set_value(indx, 'tr_count',train.shape[0])\n",
    "    x.set_value(indx, 'tr_TR',train[2].sum())\n",
    "    x.set_value(indx, 'tr_TT',train[3].sum())\n",
    "    x.set_value(indx, 'tr_TS',train[1].sum())\n",
    "    \n",
    "    x.set_value(indx, 'ts_count',test.shape[0])\n",
    "    x.set_value(indx, 'ts_TR',test[2].sum())\n",
    "    x.set_value(indx, 'ts_TT',test[3].sum())\n",
    "    x.set_value(indx, 'ts_TS',test[1].sum())\n",
    "    tr_tmp = train[2]\n",
    "    ts_tmp = test[2]\n",
    "    x.set_value(indx,['tr_s'],tr_tmp[tr_tmp>0].count()/tr_tmp.count(),)\n",
    "    x.set_value(indx,['ts_s'],ts_tmp[ts_tmp>0].count()/ts_tmp.count())\n",
    "    \n",
    "    train = train[train[0]>=splitpoint]\n",
    "    test = test[test[0]>=(splitpoint/10)]\n",
    "    \n",
    "    x.set_value(indx,'tr_SMD',train[1].median())\n",
    "    x.set_value(indx,'tr_SM',train[1].mean())\n",
    "    x.set_value(indx,'tr_RMD',train[2].median())\n",
    "    x.set_value(indx,'tr_RM',train[2].mean())\n",
    "\n",
    "    x.set_value(indx,'ts_SMD',test[1].median())\n",
    "    x.set_value(indx,'ts_SM',test[1].mean())\n",
    "    x.set_value(indx,'ts_RMD',test[2].median())\n",
    "    x.set_value(indx,'ts_RM',test[2].mean())\n",
    "    #train = train[2]\n",
    "    #test = test[2]\n",
    "\n",
    "    print(i)"
   ]
  },
  {
   "cell_type": "code",
   "execution_count": 6,
   "metadata": {
    "collapsed": true
   },
   "outputs": [],
   "source": [
    "x['tr_AR'] = x['tr_TR']/x['tr_count']\n",
    "x['tr_AS'] = x['tr_TS']/x['tr_count']\n",
    "x['ts_AR'] = x['ts_TR']/x['ts_count']\n",
    "x['ts_AS'] = x['ts_TS']/x['ts_count']"
   ]
  },
  {
   "cell_type": "code",
   "execution_count": 7,
   "metadata": {
    "collapsed": true
   },
   "outputs": [],
   "source": [
    "x.to_csv('semifinal.csv',index=False)"
   ]
  },
  {
   "cell_type": "markdown",
   "metadata": {},
   "source": [
    "## Merge current results with Final.csv and sort the result."
   ]
  },
  {
   "cell_type": "code",
   "execution_count": 8,
   "metadata": {
    "collapsed": true
   },
   "outputs": [],
   "source": [
    "Final = pd.read_csv('Final.csv')"
   ]
  },
  {
   "cell_type": "code",
   "execution_count": 9,
   "metadata": {
    "collapsed": false
   },
   "outputs": [
    {
     "name": "stdout",
     "output_type": "stream",
     "text": [
      "new data shape:(35, 42),old data shape:(345, 42)\n",
      "new Full shape: (380, 42)\n"
     ]
    }
   ],
   "source": [
    "print('new data shape:{},old data shape:{}'.format(x.shape,Final.shape))\n",
    "Final = pd.concat([Final,x])\n",
    "print('new Full shape:',Final.shape)\n",
    "Final.sort_values('experiment',inplace=True)\n",
    "Final.to_csv('Final.csv',index=False)"
   ]
  },
  {
   "cell_type": "code",
   "execution_count": 10,
   "metadata": {
    "collapsed": true
   },
   "outputs": [],
   "source": [
    "pd.options.display.max_columns=80"
   ]
  },
  {
   "cell_type": "code",
   "execution_count": 12,
   "metadata": {
    "collapsed": false
   },
   "outputs": [
    {
     "data": {
      "text/html": [
       "<div>\n",
       "<table border=\"1\" class=\"dataframe\">\n",
       "  <thead>\n",
       "    <tr style=\"text-align: right;\">\n",
       "      <th></th>\n",
       "      <th>experiment</th>\n",
       "      <th>reply_size</th>\n",
       "      <th>layers</th>\n",
       "      <th>tau</th>\n",
       "      <th>optimizer</th>\n",
       "      <th>advantage</th>\n",
       "      <th>max_steps</th>\n",
       "      <th>activation</th>\n",
       "      <th>batch_size</th>\n",
       "      <th>totalsteps</th>\n",
       "      <th>exploration</th>\n",
       "      <th>vanish</th>\n",
       "      <th>gamma</th>\n",
       "      <th>hidden_size</th>\n",
       "      <th>train_repeat</th>\n",
       "      <th>batch_norm</th>\n",
       "      <th>seed</th>\n",
       "      <th>rwrdschem</th>\n",
       "      <th>svision</th>\n",
       "      <th>details</th>\n",
       "      <th>tr_count</th>\n",
       "      <th>tr_TR</th>\n",
       "      <th>tr_TT</th>\n",
       "      <th>tr_TS</th>\n",
       "      <th>ts_count</th>\n",
       "      <th>ts_TR</th>\n",
       "      <th>ts_TT</th>\n",
       "      <th>ts_TS</th>\n",
       "      <th>tr_s</th>\n",
       "      <th>ts_s</th>\n",
       "      <th>tr_AR</th>\n",
       "      <th>tr_AS</th>\n",
       "      <th>ts_AR</th>\n",
       "      <th>ts_AS</th>\n",
       "      <th>tr_SMD</th>\n",
       "      <th>tr_SM</th>\n",
       "      <th>tr_RMD</th>\n",
       "      <th>tr_RM</th>\n",
       "      <th>ts_SMD</th>\n",
       "      <th>ts_SM</th>\n",
       "      <th>ts_RMD</th>\n",
       "      <th>ts_RM</th>\n",
       "    </tr>\n",
       "  </thead>\n",
       "  <tbody>\n",
       "    <tr>\n",
       "      <th>30</th>\n",
       "      <td>380</td>\n",
       "      <td>100000</td>\n",
       "      <td>1</td>\n",
       "      <td>0.001</td>\n",
       "      <td>adam</td>\n",
       "      <td>max</td>\n",
       "      <td>1000</td>\n",
       "      <td>tanh</td>\n",
       "      <td>32</td>\n",
       "      <td>500000</td>\n",
       "      <td>1.0</td>\n",
       "      <td>0.75</td>\n",
       "      <td>0.99</td>\n",
       "      <td>100</td>\n",
       "      <td>1</td>\n",
       "      <td>False</td>\n",
       "      <td>6654</td>\n",
       "      <td>[-10.0, 1000.0, -0.1]</td>\n",
       "      <td>180</td>\n",
       "      <td>punishment based on E355</td>\n",
       "      <td>58892</td>\n",
       "      <td>8123699</td>\n",
       "      <td>5012</td>\n",
       "      <td>500007</td>\n",
       "      <td>5890</td>\n",
       "      <td>-493261</td>\n",
       "      <td>2170</td>\n",
       "      <td>62612</td>\n",
       "      <td>0.162569</td>\n",
       "      <td>0.211375</td>\n",
       "      <td>137.942318</td>\n",
       "      <td>8.490236</td>\n",
       "      <td>-83.745501</td>\n",
       "      <td>10.630221</td>\n",
       "      <td>7.0</td>\n",
       "      <td>7.607693</td>\n",
       "      <td>-0.6</td>\n",
       "      <td>256.046485</td>\n",
       "      <td>7.0</td>\n",
       "      <td>7.411192</td>\n",
       "      <td>-0.6</td>\n",
       "      <td>254.611679</td>\n",
       "    </tr>\n",
       "  </tbody>\n",
       "</table>\n",
       "</div>"
      ],
      "text/plain": [
       "    experiment  reply_size  layers    tau optimizer advantage  max_steps  \\\n",
       "30         380      100000       1  0.001      adam       max       1000   \n",
       "\n",
       "   activation  batch_size  totalsteps  exploration  vanish  gamma  \\\n",
       "30       tanh          32      500000          1.0    0.75   0.99   \n",
       "\n",
       "    hidden_size  train_repeat batch_norm  seed              rwrdschem  \\\n",
       "30          100             1      False  6654  [-10.0, 1000.0, -0.1]   \n",
       "\n",
       "    svision                   details  tr_count    tr_TR  tr_TT   tr_TS  \\\n",
       "30      180  punishment based on E355     58892  8123699   5012  500007   \n",
       "\n",
       "    ts_count   ts_TR  ts_TT  ts_TS      tr_s      ts_s       tr_AR     tr_AS  \\\n",
       "30      5890 -493261   2170  62612  0.162569  0.211375  137.942318  8.490236   \n",
       "\n",
       "        ts_AR      ts_AS  tr_SMD     tr_SM  tr_RMD       tr_RM  ts_SMD  \\\n",
       "30 -83.745501  10.630221     7.0  7.607693    -0.6  256.046485     7.0   \n",
       "\n",
       "       ts_SM  ts_RMD       ts_RM  \n",
       "30  7.411192    -0.6  254.611679  "
      ]
     },
     "execution_count": 12,
     "metadata": {},
     "output_type": "execute_result"
    }
   ],
   "source": [
    "Final[Final.experiment==380]"
   ]
  }
 ],
 "metadata": {
  "kernelspec": {
   "display_name": "Python 3",
   "language": "python",
   "name": "python3"
  },
  "language_info": {
   "codemirror_mode": {
    "name": "ipython",
    "version": 3
   },
   "file_extension": ".py",
   "mimetype": "text/x-python",
   "name": "python",
   "nbconvert_exporter": "python",
   "pygments_lexer": "ipython3",
   "version": "3.5.2"
  },
  "widgets": {
   "state": {},
   "version": "1.1.2"
  }
 },
 "nbformat": 4,
 "nbformat_minor": 0
}
