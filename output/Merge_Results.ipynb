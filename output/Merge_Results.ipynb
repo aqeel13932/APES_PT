{
 "cells": [
  {
   "cell_type": "code",
   "execution_count": 1,
   "metadata": {
    "collapsed": true
   },
   "outputs": [],
   "source": [
    "import pandas as pd\n",
    "import os\n",
    "from Test_Functions import ReadCSV"
   ]
  },
  {
   "cell_type": "markdown",
   "metadata": {},
   "source": [
    "## Read all new general feature and set them in csv data set"
   ]
  },
  {
   "cell_type": "code",
   "execution_count": 2,
   "metadata": {
    "collapsed": false
   },
   "outputs": [
    {
     "ename": "FileNotFoundError",
     "evalue": "[Errno 2] No such file or directory: 'features.results.out'",
     "output_type": "error",
     "traceback": [
      "\u001b[0;31m---------------------------------------------------------------------------\u001b[0m",
      "\u001b[0;31mFileNotFoundError\u001b[0m                         Traceback (most recent call last)",
      "\u001b[0;32m<ipython-input-2-c878763aef91>\u001b[0m in \u001b[0;36m<module>\u001b[0;34m()\u001b[0m\n\u001b[0;32m----> 1\u001b[0;31m \u001b[0msource\u001b[0m \u001b[0;34m=\u001b[0m \u001b[0mopen\u001b[0m\u001b[0;34m(\u001b[0m\u001b[0;34m'features.results.out'\u001b[0m\u001b[0;34m)\u001b[0m\u001b[0;34m\u001b[0m\u001b[0m\n\u001b[0m\u001b[1;32m      2\u001b[0m \u001b[0mlines\u001b[0m \u001b[0;34m=\u001b[0m \u001b[0;34m[\u001b[0m\u001b[0mx\u001b[0m\u001b[0;34m.\u001b[0m\u001b[0mstrip\u001b[0m\u001b[0;34m(\u001b[0m\u001b[0;34m)\u001b[0m \u001b[0;32mfor\u001b[0m \u001b[0mx\u001b[0m \u001b[0;32min\u001b[0m \u001b[0msource\u001b[0m\u001b[0;34m.\u001b[0m\u001b[0mreadlines\u001b[0m\u001b[0;34m(\u001b[0m\u001b[0;34m)\u001b[0m\u001b[0;34m]\u001b[0m\u001b[0;34m\u001b[0m\u001b[0m\n\u001b[1;32m      3\u001b[0m \u001b[0mlines\u001b[0m \u001b[0;34m=\u001b[0m \u001b[0;34m[\u001b[0m\u001b[0;34m'{},{}{}'\u001b[0m\u001b[0;34m.\u001b[0m\u001b[0mformat\u001b[0m\u001b[0;34m(\u001b[0m\u001b[0mlines\u001b[0m\u001b[0;34m[\u001b[0m\u001b[0mi\u001b[0m\u001b[0;34m]\u001b[0m\u001b[0;34m,\u001b[0m\u001b[0mlines\u001b[0m\u001b[0;34m[\u001b[0m\u001b[0mi\u001b[0m\u001b[0;34m+\u001b[0m\u001b[0;36m1\u001b[0m\u001b[0;34m]\u001b[0m\u001b[0;34m,\u001b[0m\u001b[0;34m'\\n'\u001b[0m\u001b[0;34m)\u001b[0m \u001b[0;32mfor\u001b[0m \u001b[0mi\u001b[0m \u001b[0;32min\u001b[0m \u001b[0mrange\u001b[0m\u001b[0;34m(\u001b[0m\u001b[0;36m0\u001b[0m\u001b[0;34m,\u001b[0m\u001b[0mlen\u001b[0m\u001b[0;34m(\u001b[0m\u001b[0mlines\u001b[0m\u001b[0;34m)\u001b[0m\u001b[0;34m,\u001b[0m\u001b[0;36m2\u001b[0m\u001b[0;34m)\u001b[0m\u001b[0;34m]\u001b[0m\u001b[0;34m\u001b[0m\u001b[0m\n\u001b[1;32m      4\u001b[0m \u001b[0mlines\u001b[0m \u001b[0;34m=\u001b[0m \u001b[0;34m[\u001b[0m\u001b[0mi\u001b[0m\u001b[0;34m.\u001b[0m\u001b[0mreplace\u001b[0m\u001b[0;34m(\u001b[0m\u001b[0;34m'['\u001b[0m\u001b[0;34m,\u001b[0m\u001b[0;34m'\"['\u001b[0m\u001b[0;34m)\u001b[0m \u001b[0;32mfor\u001b[0m \u001b[0mi\u001b[0m \u001b[0;32min\u001b[0m \u001b[0mlines\u001b[0m\u001b[0;34m]\u001b[0m\u001b[0;34m\u001b[0m\u001b[0m\n\u001b[1;32m      5\u001b[0m \u001b[0mlines\u001b[0m \u001b[0;34m=\u001b[0m \u001b[0;34m[\u001b[0m\u001b[0mi\u001b[0m\u001b[0;34m.\u001b[0m\u001b[0mreplace\u001b[0m\u001b[0;34m(\u001b[0m\u001b[0;34m']'\u001b[0m\u001b[0;34m,\u001b[0m\u001b[0;34m']\"'\u001b[0m\u001b[0;34m)\u001b[0m \u001b[0;32mfor\u001b[0m \u001b[0mi\u001b[0m \u001b[0;32min\u001b[0m \u001b[0mlines\u001b[0m\u001b[0;34m]\u001b[0m\u001b[0;34m\u001b[0m\u001b[0m\n",
      "\u001b[0;31mFileNotFoundError\u001b[0m: [Errno 2] No such file or directory: 'features.results.out'"
     ]
    }
   ],
   "source": [
    "source = open('features.results.out')\n",
    "lines = [x.strip() for x in source.readlines()]\n",
    "lines = ['{},{}{}'.format(lines[i],lines[i+1],'\\n') for i in range(0,len(lines),2)]\n",
    "lines = [i.replace('[','\"[') for i in lines]\n",
    "lines = [i.replace(']',']\"') for i in lines]\n",
    "target = open('semifinal.csv','w')\n",
    "lines = ['experiment,reply_size,layers,tau,optimizer,advantage,max_steps,activation,batch_size,totalsteps,exploration,vanish,gamma,hidden_size,train_repeat,batch_norm,seed,rwrdschem,svision,details\\n']+lines\n",
    "target.writelines(lines)\n",
    "target.close()"
   ]
  },
  {
   "cell_type": "markdown",
   "metadata": {},
   "source": [
    "## Add Experiment details.\n",
    "* Train :\n",
    "    * count\n",
    "    * Total Reward\n",
    "    * Total step\n",
    "    * Total time\n",
    "    \n",
    "* Test:\n",
    "    * count\n",
    "    * Total Reward\n",
    "    * Total step\n",
    "    * Total time"
   ]
  },
  {
   "cell_type": "code",
   "execution_count": 3,
   "metadata": {
    "collapsed": true
   },
   "outputs": [],
   "source": [
    "x = pd.read_csv('semifinal.csv')"
   ]
  },
  {
   "cell_type": "code",
   "execution_count": 4,
   "metadata": {
    "collapsed": true
   },
   "outputs": [],
   "source": [
    "#Train information\n",
    "# Episodes count\n",
    "x['tr_count']=0\n",
    "# Total Reward (sum over all epsidoes)\n",
    "x['tr_TR']=0\n",
    "# Total Time (sum over all episodes)\n",
    "x['tr_TT']=0\n",
    "# Total steps (sum over all episodes)\n",
    "x['tr_TS']=0\n",
    "#Test Information\n",
    "# Episodes count\n",
    "x['ts_count']=0\n",
    "# Total Reward (sum over all epsidoes)\n",
    "x['ts_TR']=0\n",
    "# Total Time (sum over all episodes)\n",
    "x['ts_TT']=0\n",
    "# Total steps (sum over all episodes)\n",
    "x['ts_TS']=0\n",
    "# percentage of training episodes with positive reward\n",
    "x['tr_s']=0\n",
    "# percentage of testing episodes with positive reward\n",
    "x['ts_s']=0\n",
    "\n",
    "x['tr_AR'] = 0.0\n",
    "x['tr_AS'] = 0.0\n",
    "x['ts_AR'] = 0.0\n",
    "x['ts_AS'] = 0.0\n",
    "#training Steps median after exploration vanish.\n",
    "x['tr_SMD']=0.0\n",
    "#training Steps mean after exploration vanish.\n",
    "x['tr_SM']=0.0\n",
    "#training Reward median after exploration vanish.\n",
    "x['tr_RMD']=0.0\n",
    "#training Reward mean after exploration vanish.\n",
    "x['tr_RM']=0.0\n",
    "#testing Steps median after exploration vanish.\n",
    "x['ts_SMD']=0.0\n",
    "#testing Steps mean after exploration vanish.\n",
    "x['ts_SM']=0.0\n",
    "#testing Reward median after exploration vanish.\n",
    "x['ts_RMD']=0.0\n",
    "#testing Reward mean after exploration vanish.\n",
    "x['ts_RM']=0.0"
   ]
  },
  {
   "cell_type": "code",
   "execution_count": 5,
   "metadata": {
    "collapsed": false,
    "scrolled": true
   },
   "outputs": [
    {
     "name": "stdout",
     "output_type": "stream",
     "text": [
      "621\n",
      "626\n",
      "622\n",
      "619\n",
      "627\n",
      "628\n",
      "633\n",
      "624\n",
      "618\n",
      "625\n",
      "617\n",
      "629\n",
      "616\n",
      "630\n",
      "623\n",
      "620\n",
      "634\n",
      "641\n",
      "640\n",
      "632\n",
      "635\n",
      "642\n",
      "637\n",
      "631\n",
      "638\n",
      "639\n",
      "636\n",
      "643\n"
     ]
    }
   ],
   "source": [
    "for i in x.experiment.as_matrix():\n",
    "    train,test,splitpoint = ReadCSV(i,x[x.experiment==i].vanish.as_matrix())\n",
    "    \n",
    "    indx = x[x['experiment']==i].index[0]\n",
    "    x.set_value(indx, 'tr_count',train.shape[0])\n",
    "    x.set_value(indx, 'tr_TR',train[2].sum())\n",
    "    x.set_value(indx, 'tr_TT',train[3].sum())\n",
    "    x.set_value(indx, 'tr_TS',train[1].sum())\n",
    "    \n",
    "    x.set_value(indx, 'ts_count',test.shape[0])\n",
    "    x.set_value(indx, 'ts_TR',test[2].sum())\n",
    "    x.set_value(indx, 'ts_TT',test[3].sum())\n",
    "    x.set_value(indx, 'ts_TS',test[1].sum())\n",
    "    tr_tmp = train[2]\n",
    "    ts_tmp = test[2]\n",
    "    x.set_value(indx,['tr_s'],tr_tmp[tr_tmp>0].count()/tr_tmp.count(),)\n",
    "    x.set_value(indx,['ts_s'],ts_tmp[ts_tmp>0].count()/ts_tmp.count())\n",
    "    \n",
    "    train = train[train[0]>=splitpoint]\n",
    "    test = test[test[0]>=(splitpoint/10)]\n",
    "    \n",
    "    x.set_value(indx,'tr_SMD',train[1].median())\n",
    "    x.set_value(indx,'tr_SM',train[1].mean())\n",
    "    x.set_value(indx,'tr_RMD',train[2].median())\n",
    "    x.set_value(indx,'tr_RM',train[2].mean())\n",
    "\n",
    "    x.set_value(indx,'ts_SMD',test[1].median())\n",
    "    x.set_value(indx,'ts_SM',test[1].mean())\n",
    "    x.set_value(indx,'ts_RMD',test[2].median())\n",
    "    x.set_value(indx,'ts_RM',test[2].mean())\n",
    "    #train = train[2]\n",
    "    #test = test[2]\n",
    "\n",
    "    print(i)"
   ]
  },
  {
   "cell_type": "code",
   "execution_count": 6,
   "metadata": {
    "collapsed": true
   },
   "outputs": [],
   "source": [
    "x['tr_AR'] = x['tr_TR']/x['tr_count']\n",
    "x['tr_AS'] = x['tr_TS']/x['tr_count']\n",
    "x['ts_AR'] = x['ts_TR']/x['ts_count']\n",
    "x['ts_AS'] = x['ts_TS']/x['ts_count']"
   ]
  },
  {
   "cell_type": "code",
   "execution_count": 7,
   "metadata": {
    "collapsed": true
   },
   "outputs": [],
   "source": [
    "x.to_csv('semifinal.csv',index=False)"
   ]
  },
  {
   "cell_type": "code",
   "execution_count": 8,
   "metadata": {
    "collapsed": false
   },
   "outputs": [
    {
     "data": {
      "text/html": [
       "<div>\n",
       "<table border=\"1\" class=\"dataframe\">\n",
       "  <thead>\n",
       "    <tr style=\"text-align: right;\">\n",
       "      <th></th>\n",
       "      <th>experiment</th>\n",
       "      <th>details</th>\n",
       "    </tr>\n",
       "  </thead>\n",
       "  <tbody>\n",
       "    <tr>\n",
       "      <th>12</th>\n",
       "      <td>616</td>\n",
       "      <td>Competitive, B:541 duel_v2,nactions: 4,CR:2</td>\n",
       "    </tr>\n",
       "    <tr>\n",
       "      <th>10</th>\n",
       "      <td>617</td>\n",
       "      <td>Competitive, B:541 duel_v2,nactions: 4,CR:2</td>\n",
       "    </tr>\n",
       "    <tr>\n",
       "      <th>8</th>\n",
       "      <td>618</td>\n",
       "      <td>Competitive, B:541 duel_v2,nactions: 4,CR:2</td>\n",
       "    </tr>\n",
       "    <tr>\n",
       "      <th>3</th>\n",
       "      <td>619</td>\n",
       "      <td>Competitive, B:541 duel_v2,nactions: 4,CR:2</td>\n",
       "    </tr>\n",
       "    <tr>\n",
       "      <th>15</th>\n",
       "      <td>620</td>\n",
       "      <td>Competitive, B:541 duel_v2,nactions: 4,CR:2</td>\n",
       "    </tr>\n",
       "    <tr>\n",
       "      <th>0</th>\n",
       "      <td>621</td>\n",
       "      <td>Competitive, B:541 duel_v2,nactions: 4,CR:2</td>\n",
       "    </tr>\n",
       "    <tr>\n",
       "      <th>2</th>\n",
       "      <td>622</td>\n",
       "      <td>Competitive, B:541 duel_v2,nactions: 4,CR:2</td>\n",
       "    </tr>\n",
       "    <tr>\n",
       "      <th>14</th>\n",
       "      <td>623</td>\n",
       "      <td>Punishment, B:541 duel_v2,nactions: 4,CR:2</td>\n",
       "    </tr>\n",
       "    <tr>\n",
       "      <th>7</th>\n",
       "      <td>624</td>\n",
       "      <td>Punishment, B:541 duel_v2,nactions: 4,CR:2</td>\n",
       "    </tr>\n",
       "    <tr>\n",
       "      <th>9</th>\n",
       "      <td>625</td>\n",
       "      <td>Punishment, B:541 duel_v2,nactions: 4,CR:2</td>\n",
       "    </tr>\n",
       "    <tr>\n",
       "      <th>1</th>\n",
       "      <td>626</td>\n",
       "      <td>Punishment, B:541 duel_v2,nactions: 4,CR:2</td>\n",
       "    </tr>\n",
       "    <tr>\n",
       "      <th>4</th>\n",
       "      <td>627</td>\n",
       "      <td>Punishment, B:541 duel_v2,nactions: 4,CR:2</td>\n",
       "    </tr>\n",
       "    <tr>\n",
       "      <th>5</th>\n",
       "      <td>628</td>\n",
       "      <td>Punishment, B:541 duel_v2,nactions: 4,CR:2</td>\n",
       "    </tr>\n",
       "    <tr>\n",
       "      <th>11</th>\n",
       "      <td>629</td>\n",
       "      <td>Punishment, B:541 duel_v2,nactions: 4,CR:2</td>\n",
       "    </tr>\n",
       "    <tr>\n",
       "      <th>13</th>\n",
       "      <td>630</td>\n",
       "      <td>Competitive, B:577 DQN,nactions: 4,CR:2</td>\n",
       "    </tr>\n",
       "    <tr>\n",
       "      <th>23</th>\n",
       "      <td>631</td>\n",
       "      <td>Competitive, B:577 DQN,nactions: 4,CR:2</td>\n",
       "    </tr>\n",
       "    <tr>\n",
       "      <th>19</th>\n",
       "      <td>632</td>\n",
       "      <td>Competitive, B:577 DQN,nactions: 4,CR:2</td>\n",
       "    </tr>\n",
       "    <tr>\n",
       "      <th>6</th>\n",
       "      <td>633</td>\n",
       "      <td>Competitive, B:577 DQN,nactions: 4,CR:2</td>\n",
       "    </tr>\n",
       "    <tr>\n",
       "      <th>16</th>\n",
       "      <td>634</td>\n",
       "      <td>Competitive, B:577 DQN,nactions: 4,CR:2</td>\n",
       "    </tr>\n",
       "    <tr>\n",
       "      <th>20</th>\n",
       "      <td>635</td>\n",
       "      <td>Competitive, B:577 DQN,nactions: 4,CR:2</td>\n",
       "    </tr>\n",
       "    <tr>\n",
       "      <th>26</th>\n",
       "      <td>636</td>\n",
       "      <td>Competitive, B:577 DQN,nactions: 4,CR:2</td>\n",
       "    </tr>\n",
       "    <tr>\n",
       "      <th>22</th>\n",
       "      <td>637</td>\n",
       "      <td>Punishment, B:577 DQN,nactions: 4,CR:2</td>\n",
       "    </tr>\n",
       "    <tr>\n",
       "      <th>24</th>\n",
       "      <td>638</td>\n",
       "      <td>Punishment, B:577 DQN,nactions: 4,CR:2</td>\n",
       "    </tr>\n",
       "    <tr>\n",
       "      <th>25</th>\n",
       "      <td>639</td>\n",
       "      <td>Punishment, B:577 DQN,nactions: 4,CR:2</td>\n",
       "    </tr>\n",
       "    <tr>\n",
       "      <th>18</th>\n",
       "      <td>640</td>\n",
       "      <td>Punishment, B:577 DQN,nactions: 4,CR:2</td>\n",
       "    </tr>\n",
       "    <tr>\n",
       "      <th>17</th>\n",
       "      <td>641</td>\n",
       "      <td>Punishment, B:577 DQN,nactions: 4,CR:2</td>\n",
       "    </tr>\n",
       "    <tr>\n",
       "      <th>21</th>\n",
       "      <td>642</td>\n",
       "      <td>Punishment, B:577 DQN,nactions: 4,CR:2</td>\n",
       "    </tr>\n",
       "    <tr>\n",
       "      <th>27</th>\n",
       "      <td>643</td>\n",
       "      <td>Punishment, B:577 DQN,nactions: 4,CR:2</td>\n",
       "    </tr>\n",
       "  </tbody>\n",
       "</table>\n",
       "</div>"
      ],
      "text/plain": [
       "    experiment                                      details\n",
       "12         616  Competitive, B:541 duel_v2,nactions: 4,CR:2\n",
       "10         617  Competitive, B:541 duel_v2,nactions: 4,CR:2\n",
       "8          618  Competitive, B:541 duel_v2,nactions: 4,CR:2\n",
       "3          619  Competitive, B:541 duel_v2,nactions: 4,CR:2\n",
       "15         620  Competitive, B:541 duel_v2,nactions: 4,CR:2\n",
       "0          621  Competitive, B:541 duel_v2,nactions: 4,CR:2\n",
       "2          622  Competitive, B:541 duel_v2,nactions: 4,CR:2\n",
       "14         623   Punishment, B:541 duel_v2,nactions: 4,CR:2\n",
       "7          624   Punishment, B:541 duel_v2,nactions: 4,CR:2\n",
       "9          625   Punishment, B:541 duel_v2,nactions: 4,CR:2\n",
       "1          626   Punishment, B:541 duel_v2,nactions: 4,CR:2\n",
       "4          627   Punishment, B:541 duel_v2,nactions: 4,CR:2\n",
       "5          628   Punishment, B:541 duel_v2,nactions: 4,CR:2\n",
       "11         629   Punishment, B:541 duel_v2,nactions: 4,CR:2\n",
       "13         630      Competitive, B:577 DQN,nactions: 4,CR:2\n",
       "23         631      Competitive, B:577 DQN,nactions: 4,CR:2\n",
       "19         632      Competitive, B:577 DQN,nactions: 4,CR:2\n",
       "6          633      Competitive, B:577 DQN,nactions: 4,CR:2\n",
       "16         634      Competitive, B:577 DQN,nactions: 4,CR:2\n",
       "20         635      Competitive, B:577 DQN,nactions: 4,CR:2\n",
       "26         636      Competitive, B:577 DQN,nactions: 4,CR:2\n",
       "22         637       Punishment, B:577 DQN,nactions: 4,CR:2\n",
       "24         638       Punishment, B:577 DQN,nactions: 4,CR:2\n",
       "25         639       Punishment, B:577 DQN,nactions: 4,CR:2\n",
       "18         640       Punishment, B:577 DQN,nactions: 4,CR:2\n",
       "17         641       Punishment, B:577 DQN,nactions: 4,CR:2\n",
       "21         642       Punishment, B:577 DQN,nactions: 4,CR:2\n",
       "27         643       Punishment, B:577 DQN,nactions: 4,CR:2"
      ]
     },
     "execution_count": 8,
     "metadata": {},
     "output_type": "execute_result"
    }
   ],
   "source": [
    "x.sort_values('experiment')[['experiment','details']]"
   ]
  },
  {
   "cell_type": "markdown",
   "metadata": {},
   "source": [
    "## Merge current results with Final.csv and sort the result."
   ]
  },
  {
   "cell_type": "code",
   "execution_count": 9,
   "metadata": {
    "collapsed": true
   },
   "outputs": [],
   "source": [
    "Final = pd.read_csv('Final.csv')"
   ]
  },
  {
   "cell_type": "code",
   "execution_count": 10,
   "metadata": {
    "collapsed": false
   },
   "outputs": [
    {
     "name": "stdout",
     "output_type": "stream",
     "text": [
      "new data shape:(28, 42),old data shape:(609, 42)\n",
      "new Full shape: (637, 42)\n"
     ]
    }
   ],
   "source": [
    "print('new data shape:{},old data shape:{}'.format(x.shape,Final.shape))\n",
    "Final = pd.concat([Final,x])\n",
    "print('new Full shape:',Final.shape)\n",
    "Final.sort_values('experiment',inplace=True)\n",
    "Final.to_csv('Final.csv',index=False)"
   ]
  },
  {
   "cell_type": "code",
   "execution_count": 11,
   "metadata": {
    "collapsed": true
   },
   "outputs": [],
   "source": [
    "pd.options.display.max_columns=80"
   ]
  },
  {
   "cell_type": "code",
   "execution_count": 12,
   "metadata": {
    "collapsed": false
   },
   "outputs": [
    {
     "data": {
      "text/html": [
       "<div>\n",
       "<table border=\"1\" class=\"dataframe\">\n",
       "  <thead>\n",
       "    <tr style=\"text-align: right;\">\n",
       "      <th></th>\n",
       "      <th>experiment</th>\n",
       "      <th>reply_size</th>\n",
       "      <th>layers</th>\n",
       "      <th>tau</th>\n",
       "      <th>optimizer</th>\n",
       "      <th>advantage</th>\n",
       "      <th>max_steps</th>\n",
       "      <th>activation</th>\n",
       "      <th>batch_size</th>\n",
       "      <th>totalsteps</th>\n",
       "      <th>exploration</th>\n",
       "      <th>vanish</th>\n",
       "      <th>gamma</th>\n",
       "      <th>hidden_size</th>\n",
       "      <th>train_repeat</th>\n",
       "      <th>batch_norm</th>\n",
       "      <th>seed</th>\n",
       "      <th>rwrdschem</th>\n",
       "      <th>svision</th>\n",
       "      <th>details</th>\n",
       "      <th>tr_count</th>\n",
       "      <th>tr_TR</th>\n",
       "      <th>tr_TT</th>\n",
       "      <th>tr_TS</th>\n",
       "      <th>ts_count</th>\n",
       "      <th>ts_TR</th>\n",
       "      <th>ts_TT</th>\n",
       "      <th>ts_TS</th>\n",
       "      <th>tr_s</th>\n",
       "      <th>ts_s</th>\n",
       "      <th>tr_AR</th>\n",
       "      <th>tr_AS</th>\n",
       "      <th>ts_AR</th>\n",
       "      <th>ts_AS</th>\n",
       "      <th>tr_SMD</th>\n",
       "      <th>tr_SM</th>\n",
       "      <th>tr_RMD</th>\n",
       "      <th>tr_RM</th>\n",
       "      <th>ts_SMD</th>\n",
       "      <th>ts_SM</th>\n",
       "      <th>ts_RMD</th>\n",
       "      <th>ts_RM</th>\n",
       "    </tr>\n",
       "  </thead>\n",
       "  <tbody>\n",
       "    <tr>\n",
       "      <th>374</th>\n",
       "      <td>380</td>\n",
       "      <td>100000</td>\n",
       "      <td>1</td>\n",
       "      <td>0.001</td>\n",
       "      <td>adam</td>\n",
       "      <td>max</td>\n",
       "      <td>1000</td>\n",
       "      <td>tanh</td>\n",
       "      <td>32</td>\n",
       "      <td>500000</td>\n",
       "      <td>1.0</td>\n",
       "      <td>0.75</td>\n",
       "      <td>0.99</td>\n",
       "      <td>100</td>\n",
       "      <td>1</td>\n",
       "      <td>False</td>\n",
       "      <td>6654</td>\n",
       "      <td>[-10.0, 1000.0, -0.1]</td>\n",
       "      <td>180</td>\n",
       "      <td>punishment based on E355 CR:2</td>\n",
       "      <td>58892</td>\n",
       "      <td>8123699</td>\n",
       "      <td>5012</td>\n",
       "      <td>500007</td>\n",
       "      <td>5890</td>\n",
       "      <td>-493261</td>\n",
       "      <td>2170</td>\n",
       "      <td>62612</td>\n",
       "      <td>0.162569</td>\n",
       "      <td>0.211375</td>\n",
       "      <td>137.942318</td>\n",
       "      <td>8.490236</td>\n",
       "      <td>-83.745501</td>\n",
       "      <td>10.630221</td>\n",
       "      <td>7.0</td>\n",
       "      <td>7.607693</td>\n",
       "      <td>-0.6</td>\n",
       "      <td>256.046485</td>\n",
       "      <td>7.0</td>\n",
       "      <td>7.411192</td>\n",
       "      <td>-0.6</td>\n",
       "      <td>254.611679</td>\n",
       "    </tr>\n",
       "  </tbody>\n",
       "</table>\n",
       "</div>"
      ],
      "text/plain": [
       "     experiment  reply_size  layers    tau optimizer advantage  max_steps  \\\n",
       "374         380      100000       1  0.001      adam       max       1000   \n",
       "\n",
       "    activation  batch_size  totalsteps  exploration  vanish  gamma  \\\n",
       "374       tanh          32      500000          1.0    0.75   0.99   \n",
       "\n",
       "     hidden_size  train_repeat batch_norm  seed              rwrdschem  \\\n",
       "374          100             1      False  6654  [-10.0, 1000.0, -0.1]   \n",
       "\n",
       "     svision                        details  tr_count    tr_TR  tr_TT   tr_TS  \\\n",
       "374      180  punishment based on E355 CR:2     58892  8123699   5012  500007   \n",
       "\n",
       "     ts_count   ts_TR  ts_TT  ts_TS      tr_s      ts_s       tr_AR     tr_AS  \\\n",
       "374      5890 -493261   2170  62612  0.162569  0.211375  137.942318  8.490236   \n",
       "\n",
       "         ts_AR      ts_AS  tr_SMD     tr_SM  tr_RMD       tr_RM  ts_SMD  \\\n",
       "374 -83.745501  10.630221     7.0  7.607693    -0.6  256.046485     7.0   \n",
       "\n",
       "        ts_SM  ts_RMD       ts_RM  \n",
       "374  7.411192    -0.6  254.611679  "
      ]
     },
     "execution_count": 12,
     "metadata": {},
     "output_type": "execute_result"
    }
   ],
   "source": [
    "Final[Final.experiment==380]"
   ]
  },
  {
   "cell_type": "code",
   "execution_count": null,
   "metadata": {
    "collapsed": true
   },
   "outputs": [],
   "source": []
  }
 ],
 "metadata": {
  "kernelspec": {
   "display_name": "Python 3",
   "language": "python",
   "name": "python3"
  },
  "language_info": {
   "codemirror_mode": {
    "name": "ipython",
    "version": 3
   },
   "file_extension": ".py",
   "mimetype": "text/x-python",
   "name": "python",
   "nbconvert_exporter": "python",
   "pygments_lexer": "ipython3",
   "version": "3.5.2"
  },
  "widgets": {
   "state": {},
   "version": "1.1.2"
  }
 },
 "nbformat": 4,
 "nbformat_minor": 0
}
