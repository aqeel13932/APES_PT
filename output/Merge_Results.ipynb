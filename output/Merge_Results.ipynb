{
 "cells": [
  {
   "cell_type": "code",
   "execution_count": 1,
   "metadata": {
    "collapsed": false
   },
   "outputs": [],
   "source": [
    "import os\n",
    "import pandas as pd"
   ]
  },
  {
   "cell_type": "code",
   "execution_count": 2,
   "metadata": {
    "collapsed": false
   },
   "outputs": [],
   "source": [
    "for root, dirs,files in os.walk(\"tmp/\", topdown=True):\n",
    "    txts=[]\n",
    "    for name in files:\n",
    "        txts.append(os.path.join(root, name))\n",
    "    break"
   ]
  },
  {
   "cell_type": "code",
   "execution_count": 3,
   "metadata": {
    "collapsed": false
   },
   "outputs": [],
   "source": [
    "final=[]\n",
    "for txt in txts:\n",
    "    f = open(txt,'r',encoding = \"ISO-8859-1\")\n",
    "    number = f.name.replace('tmp/','')\n",
    "    number = number.replace('.txt','')\n",
    "    f.readline()\n",
    "    x = f.readline().strip()\n",
    "    x = x.replace('[','\\\"[')\n",
    "    x = x.replace(']',']\\\"')\n",
    "    final.append(number+','+x[:-1])"
   ]
  },
  {
   "cell_type": "code",
   "execution_count": 4,
   "metadata": {
    "collapsed": false
   },
   "outputs": [
    {
     "data": {
      "text/plain": [
       "['74,1,0.01,adam,avg,1000,\"[-10.0, 1000.0, -1.0]\",None,relu,10,200,0.1,0.99,100,10,True,10,False']"
      ]
     },
     "execution_count": 4,
     "metadata": {},
     "output_type": "execute_result"
    }
   ],
   "source": [
    "final"
   ]
  },
  {
   "cell_type": "code",
   "execution_count": 5,
   "metadata": {
    "collapsed": false
   },
   "outputs": [],
   "source": [
    "with open('ff.csv','w') as f:\n",
    "    for txt in final:\n",
    "        f.write(txt+'\\n')"
   ]
  },
  {
   "cell_type": "code",
   "execution_count": 6,
   "metadata": {
    "collapsed": true
   },
   "outputs": [],
   "source": [
    "data= pd.read_csv('ff.csv',header=None)"
   ]
  },
  {
   "cell_type": "code",
   "execution_count": 7,
   "metadata": {
    "collapsed": false
   },
   "outputs": [],
   "source": [
    "data.sort_values(by=[0],inplace=True)"
   ]
  },
  {
   "cell_type": "code",
   "execution_count": 8,
   "metadata": {
    "collapsed": false
   },
   "outputs": [],
   "source": [
    "data['20'] = data[data.columns[6]]\n",
    "data.drop(data.columns[6], axis = 1, inplace = True, errors = 'ignore')"
   ]
  },
  {
   "cell_type": "code",
   "execution_count": 9,
   "metadata": {
    "collapsed": false
   },
   "outputs": [
    {
     "data": {
      "text/html": [
       "<div>\n",
       "<table border=\"1\" class=\"dataframe\">\n",
       "  <thead>\n",
       "    <tr style=\"text-align: right;\">\n",
       "      <th></th>\n",
       "      <th>0</th>\n",
       "      <th>1</th>\n",
       "      <th>2</th>\n",
       "      <th>3</th>\n",
       "      <th>4</th>\n",
       "      <th>5</th>\n",
       "      <th>7</th>\n",
       "      <th>8</th>\n",
       "      <th>9</th>\n",
       "      <th>10</th>\n",
       "      <th>11</th>\n",
       "      <th>12</th>\n",
       "      <th>13</th>\n",
       "      <th>14</th>\n",
       "      <th>15</th>\n",
       "      <th>16</th>\n",
       "      <th>17</th>\n",
       "      <th>20</th>\n",
       "    </tr>\n",
       "  </thead>\n",
       "  <tbody>\n",
       "    <tr>\n",
       "      <th>0</th>\n",
       "      <td>74</td>\n",
       "      <td>1</td>\n",
       "      <td>0.01</td>\n",
       "      <td>adam</td>\n",
       "      <td>avg</td>\n",
       "      <td>1000</td>\n",
       "      <td>None</td>\n",
       "      <td>relu</td>\n",
       "      <td>10</td>\n",
       "      <td>200</td>\n",
       "      <td>0.1</td>\n",
       "      <td>0.99</td>\n",
       "      <td>100</td>\n",
       "      <td>10</td>\n",
       "      <td>True</td>\n",
       "      <td>10</td>\n",
       "      <td>False</td>\n",
       "      <td>[-10.0, 1000.0, -1.0]</td>\n",
       "    </tr>\n",
       "  </tbody>\n",
       "</table>\n",
       "</div>"
      ],
      "text/plain": [
       "    0  1     2     3    4     5     7     8   9   10   11    12   13  14  \\\n",
       "0  74  1  0.01  adam  avg  1000  None  relu  10  200  0.1  0.99  100  10   \n",
       "\n",
       "     15  16     17                     20  \n",
       "0  True  10  False  [-10.0, 1000.0, -1.0]  "
      ]
     },
     "execution_count": 9,
     "metadata": {},
     "output_type": "execute_result"
    }
   ],
   "source": [
    "data"
   ]
  },
  {
   "cell_type": "code",
   "execution_count": 10,
   "metadata": {
    "collapsed": false
   },
   "outputs": [],
   "source": [
    "data.to_csv('ff.csv',index=False)"
   ]
  },
  {
   "cell_type": "markdown",
   "metadata": {},
   "source": [
    "### now manually merge the files ff.csv and final.csv"
   ]
  },
  {
   "cell_type": "code",
   "execution_count": 11,
   "metadata": {
    "collapsed": false
   },
   "outputs": [],
   "source": [
    "experiements = pd.read_csv('Final.csv')"
   ]
  },
  {
   "cell_type": "code",
   "execution_count": 12,
   "metadata": {
    "collapsed": false
   },
   "outputs": [
    {
     "data": {
      "text/plain": [
       "Index(['ID', 'layers', 'tau', 'optimizer', 'advantage', 'max_timesteps',\n",
       "       'gym_record', 'activation', 'batch_size', 'episodes', 'exploration',\n",
       "       'gamma', 'hidden_size', 'train_repeat', 'display', 'min_train',\n",
       "       'batch_norm', 'Rewardscheme', 'Details'],\n",
       "      dtype='object')"
      ]
     },
     "execution_count": 12,
     "metadata": {},
     "output_type": "execute_result"
    }
   ],
   "source": [
    "experiements.columns"
   ]
  },
  {
   "cell_type": "code",
   "execution_count": 13,
   "metadata": {
    "collapsed": false
   },
   "outputs": [],
   "source": [
    "experiements.sort_values(by=['ID'],inplace=True)"
   ]
  },
  {
   "cell_type": "code",
   "execution_count": 14,
   "metadata": {
    "collapsed": true
   },
   "outputs": [],
   "source": [
    "experiements['Details']=''"
   ]
  },
  {
   "cell_type": "code",
   "execution_count": 15,
   "metadata": {
    "collapsed": false,
    "scrolled": true
   },
   "outputs": [],
   "source": [
    "#experiements.set_value(experiements[experiements.ID==57].index[0],'Details','Vision 360')\n",
    "experiements.set_value(experiements[experiements.ID==57].index[0],'Details','Vision 360');\n",
    "experiements.set_value(experiements[experiements.ID==58].index[0],'Details','Static Env')\n",
    "experiements.set_value(experiements[experiements.ID==59].index[0],'Details','Water walls')\n",
    "experiements.set_value(experiements[experiements.ID==60].index[0],'Details','V360,water walls, static env');\n",
    "experiements.set_value(experiements[experiements.ID==62].index[0],'Details','different SE');\n",
    "experiements.set_value(experiements[experiements.ID==63].index[0],'Details','SE - water - 180v');\n",
    "experiements.set_value(experiements[experiements.ID==65].index[0],'Details','SE - solid - 350v');\n",
    "experiements.set_value(experiements[experiements.ID==66].index[0],'Details','Vision 90');\n",
    "experiements.set_value(experiements[experiements.ID==71].index[0],'Details','Replication of Experiment E7');\n",
    "experiements.set_value(experiements[experiements.ID==71].index[0],'Details','Replication of Experiment E7');\n",
    "#experiements.set_value(experiements[experiements.ID==61].index[0],'Details','1000 Episode')"
   ]
  },
  {
   "cell_type": "code",
   "execution_count": 16,
   "metadata": {
    "collapsed": true
   },
   "outputs": [],
   "source": [
    "experiements.to_csv('Final.csv',index=False)"
   ]
  }
 ],
 "metadata": {
  "kernelspec": {
   "display_name": "Python 3",
   "language": "python",
   "name": "python3"
  },
  "language_info": {
   "codemirror_mode": {
    "name": "ipython",
    "version": 3
   },
   "file_extension": ".py",
   "mimetype": "text/x-python",
   "name": "python",
   "nbconvert_exporter": "python",
   "pygments_lexer": "ipython3",
   "version": "3.5.2"
  },
  "widgets": {
   "state": {},
   "version": "1.1.2"
  }
 },
 "nbformat": 4,
 "nbformat_minor": 0
}
