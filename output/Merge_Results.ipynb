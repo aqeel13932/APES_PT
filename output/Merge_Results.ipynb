{
 "cells": [
  {
   "cell_type": "code",
   "execution_count": 1,
   "metadata": {
    "collapsed": true
   },
   "outputs": [],
   "source": [
    "import pandas as pd\n",
    "import os"
   ]
  },
  {
   "cell_type": "markdown",
   "metadata": {},
   "source": [
    "## Read all new general feature and set them in csv data set"
   ]
  },
  {
   "cell_type": "code",
   "execution_count": 2,
   "metadata": {
    "collapsed": false
   },
   "outputs": [],
   "source": [
    "source = open('tmp/features.results.out')\n",
    "lines = [x.strip() for x in source.readlines()]\n",
    "lines = ['{},{}{}'.format(lines[i],lines[i+1],'\\n') for i in range(0,len(lines),2)]\n",
    "lines = [i.replace('[','\"[') for i in lines]\n",
    "lines = [i.replace(']',']\"') for i in lines]\n",
    "target = open('tmp/semifinal.csv','w')\n",
    "lines = ['experiment,reply_size,layers,tau,optimizer,advantage,max_steps,activation,batch_size,totalsteps,exploration,vanish,gamma,hidden_size,train_repeat,batch_norm,seed,rwrdschem,svision,details\\n']+lines\n",
    "target.writelines(lines)\n",
    "target.close()"
   ]
  },
  {
   "cell_type": "markdown",
   "metadata": {},
   "source": [
    "## Add Experiment details.\n",
    "* Train :\n",
    "    * count\n",
    "    * Total Reward\n",
    "    * Total step\n",
    "    * Total time\n",
    "    \n",
    "* Test:\n",
    "    * count\n",
    "    * Total Reward\n",
    "    * Total step\n",
    "    * Total time"
   ]
  },
  {
   "cell_type": "code",
   "execution_count": 3,
   "metadata": {
    "collapsed": true
   },
   "outputs": [],
   "source": [
    "x = pd.read_csv('tmp/semifinal.csv')"
   ]
  },
  {
   "cell_type": "code",
   "execution_count": 4,
   "metadata": {
    "collapsed": true
   },
   "outputs": [],
   "source": [
    "#Train information\n",
    "# Episodes count\n",
    "x['tr_count']=0\n",
    "# Total Reward (sum over all epsidoes)\n",
    "x['tr_TR']=0\n",
    "# Total Time (sum over all episodes)\n",
    "x['tr_TT']=0\n",
    "# Total steps (sum over all episodes)\n",
    "x['tr_TS']=0\n",
    "#Test Information\n",
    "# Episodes count\n",
    "x['ts_count']=0\n",
    "# Total Reward (sum over all epsidoes)\n",
    "x['ts_TR']=0\n",
    "# Total Time (sum over all episodes)\n",
    "x['ts_TT']=0\n",
    "# Total steps (sum over all episodes)\n",
    "x['ts_TS']=0"
   ]
  },
  {
   "cell_type": "code",
   "execution_count": 5,
   "metadata": {
    "collapsed": false,
    "scrolled": true
   },
   "outputs": [
    {
     "name": "stdout",
     "output_type": "stream",
     "text": [
      "80\n",
      "77\n",
      "72\n",
      "78\n",
      "74\n",
      "79\n",
      "71\n",
      "75\n",
      "76\n",
      "69\n",
      "70\n",
      "73\n"
     ]
    }
   ],
   "source": [
    "for i in x.experiment.as_matrix():\n",
    "    exp = pd.read_csv('tmp/{}/exp_details.csv'.format(i),header=None)\n",
    "    train = exp[exp[7]=='train']\n",
    "    test = exp[exp[7]=='Test']\n",
    "    indx = x[x['experiment']==i].index[0]\n",
    "    x.set_value(indx, 'tr_count',train.shape[0])\n",
    "    x.set_value(indx, 'tr_TR',train[2].sum())\n",
    "    x.set_value(indx, 'tr_TT',train[3].sum())\n",
    "    x.set_value(indx, 'tr_TS',train[1].sum())\n",
    "    \n",
    "    x.set_value(indx, 'ts_count',test.shape[0])\n",
    "    x.set_value(indx, 'ts_TR',test[2].sum())\n",
    "    x.set_value(indx, 'ts_TT',test[3].sum())\n",
    "    x.set_value(indx, 'ts_TS',test[1].sum())\n",
    "    print(i)"
   ]
  },
  {
   "cell_type": "code",
   "execution_count": 6,
   "metadata": {
    "collapsed": true
   },
   "outputs": [],
   "source": [
    "x.to_csv('tmp/semifinal.csv',index=False)"
   ]
  },
  {
   "cell_type": "markdown",
   "metadata": {},
   "source": [
    "## Merge current results with Final.csv and sort the result."
   ]
  },
  {
   "cell_type": "code",
   "execution_count": 7,
   "metadata": {
    "collapsed": true
   },
   "outputs": [],
   "source": [
    "Final = pd.read_csv('Final.csv')"
   ]
  },
  {
   "cell_type": "code",
   "execution_count": 8,
   "metadata": {
    "collapsed": false
   },
   "outputs": [
    {
     "name": "stdout",
     "output_type": "stream",
     "text": [
      "new data shape:(12, 28),old data shape:(68, 28)\n",
      "new Full shape: (80, 28)\n"
     ]
    }
   ],
   "source": [
    "print('new data shape:{},old data shape:{}'.format(x.shape,Final.shape))\n",
    "Final = pd.concat([Final,x])\n",
    "print('new Full shape:',Final.shape)\n",
    "Final.sort_values('experiment',inplace=True)\n",
    "Final.to_csv('Final.csv',index=False)"
   ]
  },
  {
   "cell_type": "code",
   "execution_count": null,
   "metadata": {
    "collapsed": true
   },
   "outputs": [],
   "source": []
  }
 ],
 "metadata": {
  "kernelspec": {
   "display_name": "Python 3",
   "language": "python",
   "name": "python3"
  },
  "language_info": {
   "codemirror_mode": {
    "name": "ipython",
    "version": 3
   },
   "file_extension": ".py",
   "mimetype": "text/x-python",
   "name": "python",
   "nbconvert_exporter": "python",
   "pygments_lexer": "ipython3",
   "version": "3.5.2"
  },
  "widgets": {
   "state": {},
   "version": "1.1.2"
  }
 },
 "nbformat": 4,
 "nbformat_minor": 0
}
