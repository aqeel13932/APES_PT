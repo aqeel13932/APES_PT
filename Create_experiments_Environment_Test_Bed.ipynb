{
 "cells": [
  {
   "cell_type": "code",
   "execution_count": 4,
   "metadata": {
    "scrolled": true
   },
   "outputs": [],
   "source": [
    "import argparse\n",
    "import numpy as np\n",
    "np.random.seed(1113)\n",
    "from APES import *\n",
    "from time import time\n",
    "from buffer import BufferLSTM as Buffer\n",
    "import os\n",
    "import matplotlib.pyplot as plt"
   ]
  },
  {
   "cell_type": "markdown",
   "metadata": {},
   "source": [
    "### average steps needed to reach food.\n"
   ]
  },
  {
   "cell_type": "code",
   "execution_count": 5,
   "metadata": {},
   "outputs": [
    {
     "data": {
      "text/plain": [
       "3.2222222222222223"
      ]
     },
     "execution_count": 5,
     "metadata": {},
     "output_type": "execute_result"
    }
   ],
   "source": [
    "np.average(np.hstack((np.arange(1,6),np.arange(2,6))))"
   ]
  },
  {
   "cell_type": "markdown",
   "metadata": {},
   "source": [
    "### Build and test the environment"
   ]
  },
  {
   "cell_type": "code",
   "execution_count": 6,
   "metadata": {},
   "outputs": [],
   "source": [
    "rwrdschem=[-10,1000,-0.1]\n",
    "svision=180\n",
    "naction=0\n",
    "Ego=False\n",
    "max_timesteps=100\n",
    "Level=1"
   ]
  },
  {
   "cell_type": "code",
   "execution_count": 8,
   "metadata": {},
   "outputs": [],
   "source": [
    "ego_action_map = dict.fromkeys([(0,'N'), (1,'S'), (2,'W'),(3,'E')], Settings.PossibleActions[0])\n",
    "ego_action_map.update(dict.fromkeys([(0,'S'), (1,'N'), (2,'E'),(3,'W')],Settings.PossibleActions[1] ))\n",
    "ego_action_map.update(dict.fromkeys([(0,'E'), (1,'W'), (2,'N'),(3,'S')],Settings.PossibleActions[3]))\n",
    "ego_action_map.update(dict.fromkeys([(0,'W'), (1,'E'), (2,'S'),(3,'N')], Settings.PossibleActions[2]))\n",
    "ego_action_map.update(dict.fromkeys([(4,'W'), (4,'E'), (4,'S'),(4,'N')], Settings.PossibleActions[4]))\n",
    "\n",
    "def New_Reward_Function(agents,foods,rwrdschem,world,AES,Terminated):\n",
    "    \"\"\"Calculate All agents rewards\n",
    "    Args:\n",
    "        * agents: dictionary of agents contain all agents by ID\n",
    "        * foods: dictionary of all foods\n",
    "        * rwrdschem: Reward Schema (More info in World __init__)\n",
    "        * world: World Map\n",
    "        * AES: one element array\n",
    "    TODO:\n",
    "        * copy this function to class or __init__ documentation as example of how to build customer reward function\n",
    "        * Assign Reward To Agents\n",
    "        * Impelent the Food Reward Part depending on the decision of who take the food reward if two \n",
    "          agent exist in food range in same time\n",
    "        * Change All Ranges to .ControlRange not (-1) it's -1 only for testing purpuse\n",
    "        * Change Punish per step to not punish when agent do nothing\"\"\"\n",
    "    def ResetagentReward(ID):\n",
    "        #Punish for step \n",
    "        agents[ID].CurrentReward= rwrdschem[2] # -1 # rwrdschem[2] if len(agents[ID].NextAction)>0 else 0\n",
    "\n",
    "    for x in agents:\n",
    "        ResetagentReward(x)\n",
    "\n",
    "    AvailableFoods = world[(world>2000)&(world<=3000)]\n",
    "    if len(AvailableFoods)==0:\n",
    "        AES[0]-=1\n",
    "        Terminated[0]= True if AES[0]<=0 else Terminated[0]\n",
    "    for ID in agents.keys():\n",
    "        if agents[ID].IAteFoodID >-1:\n",
    "            agents[ID].CurrentReward+= foods[agents[ID].IAteFoodID].Energy* rwrdschem[1]\n",
    "        agntcenter = World._GetElementCoords(ID,agents[ID].FullEgoCentric)\n",
    "        aborder = World._GetVisionBorders(agntcenter,agents[ID].ControlRange,agents[ID].FullEgoCentric.shape)\n",
    "\n",
    "def SetupEnvironment():\n",
    "    Start = time()\n",
    "    #Add Pictures\n",
    "    Settings.SetBlockSize(20)\n",
    "    Settings.AddImage('Wall','APES/Pics/wall.jpg')\n",
    "    Settings.AddImage('Food','APES/Pics/food.jpg')\n",
    "    #Specify World Size\n",
    "    \n",
    "    if Ego: \n",
    "        Settings.WorldSize=(11,11)\n",
    "\n",
    "    #If the map is allocentric, we use larger word to compensate for the extra input in the ego-centric.\n",
    "    else:\n",
    "        \n",
    "        Settings.WorldSize=(11,11)\n",
    "        \n",
    "    blue_Ag_PM = np.zeros(Settings.WorldSize)\n",
    "    blue_Ag_PM[:Settings.WorldSize[0]-1,0] = 1\n",
    "    #Create Probabilities\n",
    "\n",
    "    \n",
    "    red_Ag_PM = np.zeros(Settings.WorldSize)\n",
    "    \n",
    "    food_PM = np.zeros(Settings.WorldSize)\n",
    "    \n",
    "    blue_Ag_PM[:,0] =1\n",
    "    red_Ag_PM[3:8,3:8]=1\n",
    "    food_PM[3:8,3:8] = 1\n",
    "    #Add Probabilities to Settings\n",
    "    Settings.AddProbabilityDistribution('red_Ag_PM',red_Ag_PM)\n",
    "    Settings.AddProbabilityDistribution('blue_Ag_PM',blue_Ag_PM)\n",
    "    Settings.AddProbabilityDistribution('food_PM',food_PM)\n",
    "    \n",
    "    #Create World Elements\n",
    "    food = Foods('Food',PdstName='food_PM')\n",
    "    \n",
    "    blue_Ag = Agent(Fname='APES/Pics/blue.jpg',\n",
    "                    Power=3,\n",
    "                    VisionAngle=svision,Range=-1,\n",
    "                    PdstName='blue_Ag_PM',\n",
    "                    ActionMemory=naction,\n",
    "                   EgoCentric=Ego)\n",
    "    red_Ag = Agent(Fname='APES/Pics/red.jpg',\n",
    "                   VisionAngle=180,Range=-1,\n",
    "                   Power=10,\n",
    "                   ControlRange=1,\n",
    "                   PdstName='red_Ag_PM')\n",
    "    print(blue_Ag.ID,red_Ag.ID)\n",
    "    game=World(RewardsScheme=rwrdschem,StepsLimit=max_timesteps,RewardFunction=New_Reward_Function)\n",
    "    #Agents added first has priority of executing there actions first.\n",
    "    #game.AddAgents([ragnt])\n",
    "    game.AddAgents([red_Ag,blue_Ag])\n",
    "    game.AddFoods([food])\n",
    "    Start = time()-Start\n",
    "    print ('Taken:',Start)\n",
    "    return game"
   ]
  },
  {
   "cell_type": "code",
   "execution_count": 9,
   "metadata": {
    "scrolled": false
   },
   "outputs": [
    {
     "name": "stdout",
     "output_type": "stream",
     "text": [
      "1001 1002\n",
      "Taken: 2.8738136291503906\n"
     ]
    }
   ],
   "source": [
    "game=SetupEnvironment()\n",
    "AIAgent = game.agents[list(game.agents.keys())[1]]"
   ]
  },
  {
   "cell_type": "code",
   "execution_count": 10,
   "metadata": {},
   "outputs": [],
   "source": [
    "np.set_printoptions(2)"
   ]
  },
  {
   "cell_type": "code",
   "execution_count": 46,
   "metadata": {
    "scrolled": true
   },
   "outputs": [
    {
     "name": "stdout",
     "output_type": "stream",
     "text": [
      "[[0.   0.   0.   0.   0.   0.   0.   0.   0.   0.   0.  ]\n",
      " [0.   0.   0.   0.   0.   0.   0.   0.   0.   0.   0.  ]\n",
      " [0.   0.   0.   0.   0.   0.   0.   0.   0.   0.   0.  ]\n",
      " [0.   0.   0.   0.04 0.04 0.04 0.04 0.04 0.   0.   0.  ]\n",
      " [0.   0.   0.   0.04 0.04 0.04 0.04 0.04 0.   0.   0.  ]\n",
      " [0.   0.   0.   0.04 0.04 0.04 0.04 0.04 0.   0.   0.  ]\n",
      " [0.   0.   0.   0.04 0.04 0.04 0.04 0.04 0.   0.   0.  ]\n",
      " [0.   0.   0.   0.04 0.04 0.04 0.04 0.04 0.   0.   0.  ]\n",
      " [0.   0.   0.   0.   0.   0.   0.   0.   0.   0.   0.  ]\n",
      " [0.   0.   0.   0.   0.   0.   0.   0.   0.   0.   0.  ]\n",
      " [0.   0.   0.   0.   0.   0.   0.   0.   0.   0.   0.  ]]\n"
     ]
    }
   ],
   "source": [
    "print(Settings.ProbabilitiesTable['red_Ag_PM'].reshape(Settings.WorldSize))"
   ]
  },
  {
   "cell_type": "code",
   "execution_count": 39,
   "metadata": {},
   "outputs": [
    {
     "data": {
      "text/plain": [
       "<matplotlib.image.AxesImage at 0x2b8962b2dda0>"
      ]
     },
     "execution_count": 39,
     "metadata": {},
     "output_type": "execute_result"
    },
    {
     "data": {
      "image/png": "[encoded data removed]",
      "text/plain": [
       "<Figure size 432x288 with 1 Axes>"
      ]
     },
     "metadata": {},
     "output_type": "display_data"
    }
   ],
   "source": [
    "game.GenerateWorld()\n",
    "game.agents[list(game.agents.keys())[1]].Direction='E'\n",
    "AIAgent.NextAction=[]#\n",
    "plt.imshow(game.BuildImage())"
   ]
  },
  {
   "cell_type": "code",
   "execution_count": null,
   "metadata": {},
   "outputs": [],
   "source": []
  },
  {
   "cell_type": "code",
   "execution_count": null,
   "metadata": {},
   "outputs": [],
   "source": []
  },
  {
   "cell_type": "code",
   "execution_count": null,
   "metadata": {},
   "outputs": [],
   "source": []
  },
  {
   "cell_type": "code",
   "execution_count": null,
   "metadata": {},
   "outputs": [],
   "source": []
  },
  {
   "cell_type": "code",
   "execution_count": null,
   "metadata": {},
   "outputs": [],
   "source": []
  },
  {
   "cell_type": "code",
   "execution_count": null,
   "metadata": {},
   "outputs": [],
   "source": []
  },
  {
   "cell_type": "code",
   "execution_count": null,
   "metadata": {},
   "outputs": [],
   "source": []
  },
  {
   "cell_type": "code",
   "execution_count": null,
   "metadata": {},
   "outputs": [],
   "source": []
  },
  {
   "cell_type": "code",
   "execution_count": null,
   "metadata": {},
   "outputs": [],
   "source": []
  }
 ],
 "metadata": {
  "kernelspec": {
   "display_name": "Python 3",
   "language": "python",
   "name": "python3"
  },
  "language_info": {
   "codemirror_mode": {
    "name": "ipython",
    "version": 3
   },
   "file_extension": ".py",
   "mimetype": "text/x-python",
   "name": "python",
   "nbconvert_exporter": "python",
   "pygments_lexer": "ipython3",
   "version": "3.6.9"
  }
 },
 "nbformat": 4,
 "nbformat_minor": 2
}
