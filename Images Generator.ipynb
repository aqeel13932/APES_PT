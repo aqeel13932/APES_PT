{
 "cells": [
  {
   "cell_type": "code",
   "execution_count": 10,
   "metadata": {
    "collapsed": false
   },
   "outputs": [],
   "source": [
    "import numpy as np\n",
    "np.random.seed(4917)\n",
    "from keras.models import Model,load_model\n",
    "from output.Test_Functions import log_progress\n",
    "import matplotlib.pyplot as plt\n",
    "import skvideo.io\n",
    "%matplotlib inline\n",
    "#from test_environments import Environment1, Environment2, Environment3,Environment4,Environment5\n",
    "from time import time\n",
    "from Settings import *\n",
    "from PIL import Image\n",
    "from PIL import ImageDraw\n",
    "from PIL import ImageFont\n",
    "#Environment={1:Environment1,2:Environment2,3:Environment3,4:Environment4,5:Environment5}\n",
    "#Direction={1:'E',2:'E',3:'E',4:'E',5:'E'}\n",
    "##### IMPORTANT SELECT WHICH ENVIRONMENT YOU WANT TO TEST FROM HERE\n",
    "from Environments import CreateEnvironment"
   ]
  },
  {
   "cell_type": "code",
   "execution_count": 8,
   "metadata": {
    "collapsed": false
   },
   "outputs": [
    {
     "data": {
      "text/plain": [
       "\"\\n    1:{'sub':(1,1),'dom':(1,9),'food':(3,4),'obs':(3,5),'subdir':'E','domdir':'W','mesg':msg+msgs[0]},\\n    2:{'sub':(1,1),'dom':(7,4),'food':(2,4),'obs':(3,5),'subdir':'E','domdir':'N','mesg':msg+msgs[1]},\\n    3:{'sub':(1,1),'dom':(10,0),'food':(2,4),'obs':(3,5),'subdir':'E','domdir':'N','mesg':msg+msgs[1]},\\n    4:{'sub':(1,1),'dom':(9,9),'food':(2,4),'obs':(3,5),'subdir':'E','domdir':'W','mesg':msg+msgs[0]},\\n    5:{'sub':(1,1),'dom':(1,9),'food':(2,6),'obs':(3,5),'subdir':'E','domdir':'W','mesg':msg+msgs[1]+' explore'},\\n    6:{'sub':(1,1),'dom':(1,9),'food':(6,5),'obs':(3,5),'subdir':'E','domdir':'W','mesg':msg+msgs[1]+' analyze the results'},\\n    7:{'sub':(1,1),'dom':(3,1),'food':(6,5),'obs':(3,5),'subdir':'W','domdir':'W','mesg':msg+' surprise me'},\\n    8:{'sub':(1,1),'dom':(9,7),'food':(2,4),'obs':(3,5),'subdir':'E','domdir':'W','mesg':msg+msgs[0]},\\n    9:{'sub':(1,1),'dom':(1,9),'food':(2,4),'obs':(7,5),'subdir':'E','domdir':'E','mesg':msg+msgs[1]},\\n    10:{'sub':(1,1),'dom':(1,9),'food':(7,4),'obs':(7,5),'subdir':'E','domdir':'E','mesg':msg+msgs[0]},\\n    11:{'sub':(9,1),'dom':(7,1),'food':(8,10),'obs':(3,5),'subdir':'E','domdir':'E','mesg':msg+' race'},\\n    12:{'sub':(1,1),'dom':(1,9),'food':(1,5),'obs':(0,0),'subdir':'E','domdir':'W','mesg':msg+' SM'}\\n}\\n\""
      ]
     },
     "execution_count": 8,
     "metadata": {},
     "output_type": "execute_result"
    }
   ],
   "source": [
    "msgs=[',should go',',should not go']\n",
    "msg='Env:{}'\n",
    "preferences={\n",
    "    13:{'sub':(2,1),'dom':(2,9),'food':(1,5),'obs':(0,0),'subdir':'E','domdir':'W','mesg':msg+' SM'}}\n",
    "'''\n",
    "    1:{'sub':(1,1),'dom':(1,9),'food':(3,4),'obs':(3,5),'subdir':'E','domdir':'W','mesg':msg+msgs[0]},\n",
    "    2:{'sub':(1,1),'dom':(7,4),'food':(2,4),'obs':(3,5),'subdir':'E','domdir':'N','mesg':msg+msgs[1]},\n",
    "    3:{'sub':(1,1),'dom':(10,0),'food':(2,4),'obs':(3,5),'subdir':'E','domdir':'N','mesg':msg+msgs[1]},\n",
    "    4:{'sub':(1,1),'dom':(9,9),'food':(2,4),'obs':(3,5),'subdir':'E','domdir':'W','mesg':msg+msgs[0]},\n",
    "    5:{'sub':(1,1),'dom':(1,9),'food':(2,6),'obs':(3,5),'subdir':'E','domdir':'W','mesg':msg+msgs[1]+' explore'},\n",
    "    6:{'sub':(1,1),'dom':(1,9),'food':(6,5),'obs':(3,5),'subdir':'E','domdir':'W','mesg':msg+msgs[1]+' analyze the results'},\n",
    "    7:{'sub':(1,1),'dom':(3,1),'food':(6,5),'obs':(3,5),'subdir':'W','domdir':'W','mesg':msg+' surprise me'},\n",
    "    8:{'sub':(1,1),'dom':(9,7),'food':(2,4),'obs':(3,5),'subdir':'E','domdir':'W','mesg':msg+msgs[0]},\n",
    "    9:{'sub':(1,1),'dom':(1,9),'food':(2,4),'obs':(7,5),'subdir':'E','domdir':'E','mesg':msg+msgs[1]},\n",
    "    10:{'sub':(1,1),'dom':(1,9),'food':(7,4),'obs':(7,5),'subdir':'E','domdir':'E','mesg':msg+msgs[0]},\n",
    "    11:{'sub':(9,1),'dom':(7,1),'food':(8,10),'obs':(3,5),'subdir':'E','domdir':'E','mesg':msg+' race'},\n",
    "    12:{'sub':(1,1),'dom':(1,9),'food':(1,5),'obs':(0,0),'subdir':'E','domdir':'W','mesg':msg+' SM'}\n",
    "}\n",
    "'''"
   ]
  },
  {
   "cell_type": "markdown",
   "metadata": {},
   "source": [
    "### Vision Range"
   ]
  },
  {
   "cell_type": "code",
   "execution_count": null,
   "metadata": {
    "collapsed": true
   },
   "outputs": [],
   "source": [
    "preferences={\n",
    "    1:{'sub':(9,1),'dom':(1,9),'food':(7,1),'obs':(7,5),'subdir':'E','domdir':'W','mesg':msg+msgs[0]}}\n",
    "plt.figure(figsize=(15,10))\n",
    "game = CreateEnvironment(preferences[1])\n",
    "game.Step()\n",
    "plt.imshow(game.AgentViewPoint(1001))\n",
    "plt.xticks([])\n",
    "plt.yticks([])\n",
    "plt.savefig('vision-range-6.png',bbox_inches='tight',dpi='figure')"
   ]
  },
  {
   "cell_type": "code",
   "execution_count": null,
   "metadata": {
    "collapsed": true
   },
   "outputs": [],
   "source": [
    "preferences={\n",
    "    1:{'sub':(9,1),'dom':(1,9),'food':(7,1),'obs':(7,5),'subdir':'E','domdir':'W','mesg':msg+msgs[0]}}\n",
    "plt.figure(figsize=(15,10))\n",
    "game = CreateEnvironment(preferences[1])\n",
    "game.Step()\n",
    "plt.imshow(game.AgentViewPoint(1001))\n",
    "plt.xticks([])\n",
    "plt.yticks([])\n",
    "plt.savefig('vision-range-3.png',bbox_inches='tight',dpi='figure')"
   ]
  },
  {
   "cell_type": "markdown",
   "metadata": {},
   "source": [
    "### Vision Angle"
   ]
  },
  {
   "cell_type": "code",
   "execution_count": null,
   "metadata": {
    "collapsed": true
   },
   "outputs": [],
   "source": [
    "preferences={\n",
    "    1:{'sub':(9,1),'dom':(1,9),'food':(7,1),'obs':(7,5),'subdir':'E','domdir':'W','mesg':msg+msgs[0]}}\n",
    "plt.figure(figsize=(15,10))\n",
    "game = CreateEnvironment(preferences[1])\n",
    "game.Step()\n",
    "plt.imshow(game.AgentViewPoint(1001))\n",
    "plt.xticks([])\n",
    "plt.yticks([])\n",
    "plt.savefig('vision-angle-180.png',bbox_inches='tight',dpi='figure')"
   ]
  },
  {
   "cell_type": "code",
   "execution_count": null,
   "metadata": {
    "collapsed": true
   },
   "outputs": [],
   "source": [
    "preferences={\n",
    "    1:{'sub':(9,1),'dom':(1,9),'food':(7,1),'obs':(7,5),'subdir':'E','domdir':'W','mesg':msg+msgs[0]}}\n",
    "plt.figure(figsize=(15,10))\n",
    "game = CreateEnvironment(preferences[1])\n",
    "#game.agents[1001].NextAction = Settings.PossibleActions[0]\n",
    "game.Step()\n",
    "plt.imshow(game.AgentViewPoint(1001))\n",
    "plt.xticks([])\n",
    "plt.yticks([])\n",
    "plt.savefig('vision-angle-90.png',bbox_inches='tight',dpi='figure')"
   ]
  },
  {
   "cell_type": "markdown",
   "metadata": {},
   "source": [
    "### agent move ego-centric"
   ]
  },
  {
   "cell_type": "code",
   "execution_count": null,
   "metadata": {
    "collapsed": true
   },
   "outputs": [],
   "source": [
    "preferences={\n",
    "    1:{'sub':(9,1),'dom':(1,9),'food':(7,1),'obs':(7,5),'subdir':'E','domdir':'W','mesg':msg+msgs[0]}}\n",
    "plt.figure(figsize=(15,10))\n",
    "game = CreateEnvironment(preferences[1])\n",
    "for x in range(1,3):\n",
    "    ax = plt.subplot(1,2,x)\n",
    "    game.Step()\n",
    "    ax.imshow(game.AgentViewPoint(1001))\n",
    "    game.agents[1001].NextAction= Settings.PossibleActions[0]\n",
    "    ax.set_xticklabels([])\n",
    "    ax.set_yticklabels([])\n",
    "plt.savefig('ego-move.png',bbox_inches='tight',dpi='figure')"
   ]
  },
  {
   "cell_type": "markdown",
   "metadata": {},
   "source": [
    "### agent move altercentric"
   ]
  },
  {
   "cell_type": "code",
   "execution_count": null,
   "metadata": {
    "collapsed": true
   },
   "outputs": [],
   "source": [
    "preferences={\n",
    "    1:{'sub':(9,1),'dom':(1,9),'food':(7,1),'obs':(7,5),'subdir':'E','domdir':'W','mesg':msg+msgs[0]}}\n",
    "plt.figure(figsize=(15,10))\n",
    "game = CreateEnvironment(preferences[1])\n",
    "for x in range(1,3):\n",
    "    ax = plt.subplot(1,2,x)\n",
    "    game.Step()\n",
    "    ax.imshow(game.AgentViewPoint(1001))\n",
    "    game.agents[1001].NextAction= Settings.PossibleActions[3]\n",
    "    ax.set_xticklabels([])\n",
    "    ax.set_yticklabels([])\n",
    "plt.savefig('alter-move.png',bbox_inches='tight',dpi='figure')"
   ]
  },
  {
   "cell_type": "markdown",
   "metadata": {},
   "source": [
    "### probability distribution example"
   ]
  },
  {
   "cell_type": "code",
   "execution_count": null,
   "metadata": {
    "collapsed": false
   },
   "outputs": [],
   "source": [
    "preferences={\n",
    "    1:{'sub':(1,1),'dom':(1,9),'food':(3,4),'obs':(3,5),'subdir':'E','domdir':'W','mesg':msg+msgs[0]},\n",
    "    2:{'sub':(9,1),'dom':(1,9),'food':(3,4),'obs':(3,5),'subdir':'E','domdir':'W','mesg':msg+msgs[0]},\n",
    "    3:{'sub':(9,9),'dom':(1,9),'food':(3,4),'obs':(3,5),'subdir':'E','domdir':'W','mesg':msg+msgs[0]}}\n",
    "plt.figure(figsize=(15,10))\n",
    "for x in range(1,4):\n",
    "    ax = plt.subplot(1,3,x)\n",
    "    game = CreateEnvironment(preferences[x])\n",
    "    ax.imshow(game.BuildImage())\n",
    "    ax.set_xticklabels([])\n",
    "    ax.set_yticklabels([])\n",
    "plt.savefig('prob-matrix.png',bbox_inches='tight',dpi='figure')\n"
   ]
  },
  {
   "cell_type": "markdown",
   "metadata": {},
   "source": [
    "### agent block vision"
   ]
  },
  {
   "cell_type": "code",
   "execution_count": null,
   "metadata": {
    "collapsed": true
   },
   "outputs": [],
   "source": [
    "preferences={\n",
    "    1:{'sub':(9,1),'dom':(1,9),'food':(7,1),'obs':(7,5),'subdir':'E','domdir':'W','mesg':msg+msgs[0]},\n",
    "    2:{'sub':(9,9),'dom':(1,9),'food':(3,4),'obs':(3,5),'subdir':'N','domdir':'W','mesg':msg+msgs[0]}}\n",
    "plt.figure(figsize=(15,10))\n",
    "for x in range(1,3):\n",
    "    ax = plt.subplot(1,2,x)\n",
    "    game = CreateEnvironment(preferences[x])\n",
    "    game.Step()\n",
    "    ax.imshow(game.AgentViewPoint(1001))\n",
    "    ax.set_xticklabels([])\n",
    "    ax.set_yticklabels([])\n",
    "plt.savefig('vision_block.png',bbox_inches='tight',dpi='figure')"
   ]
  },
  {
   "cell_type": "markdown",
   "metadata": {},
   "source": [
    "### draw image for sample environment, Network input"
   ]
  },
  {
   "cell_type": "code",
   "execution_count": 19,
   "metadata": {
    "collapsed": true
   },
   "outputs": [],
   "source": [
    "preferences={\n",
    "1:{'sub':(2,1),'dom':(2,9),'food':(3,4),'obs':(3,5),'subdir':'E','domdir':'W','mesg':msg+msgs[0]},\n",
    "2:{'sub':(2,1),'dom':(7,4),'food':(3,4),'obs':(3,5),'subdir':'E','domdir':'N','mesg':msg+msgs[1]},\n",
    "3:{'sub':(2,1),'dom':(10,0),'food':(3,4),'obs':(3,5),'subdir':'E','domdir':'N','mesg':msg+msgs[1]},\n",
    "4:{'sub':(2,1),'dom':(9,9),'food':(3,4),'obs':(3,5),'subdir':'E','domdir':'W','mesg':msg+msgs[0]},\n",
    "5:{'sub':(2,1),'dom':(2,9),'food':(3,6),'obs':(3,5),'subdir':'E','domdir':'W','mesg':msg+msgs[1]+' explore'},\n",
    "6:{'sub':(2,1),'dom':(2,9),'food':(6,5),'obs':(3,5),'subdir':'E','domdir':'W','mesg':msg+msgs[1]+' analyze the results'},\n",
    "7:{'sub':(2,1),'dom':(4,1),'food':(6,5),'obs':(3,5),'subdir':'W','domdir':'W','mesg':msg+' surprise me'},\n",
    "8:{'sub':(2,1),'dom':(9,7),'food':(3,4),'obs':(3,5),'subdir':'E','domdir':'W','mesg':msg+msgs[0]},\n",
    "9:{'sub':(2,1),'dom':(2,9),'food':(3,4),'obs':(7,5),'subdir':'E','domdir':'E','mesg':msg+msgs[1]},\n",
    "10:{'sub':(2,1),'dom':(2,9),'food':(7,4),'obs':(7,5),'subdir':'E','domdir':'E','mesg':msg+msgs[0]},\n",
    "11:{'sub':(9,1),'dom':(7,1),'food':(8,10),'obs':(3,5),'subdir':'E','domdir':'E','mesg':msg+' race'},\n",
    "12:{'sub':(2,1),'dom':(2,9),'food':(1,5),'obs':(0,0),'subdir':'E','domdir':'E','mesg':msg+' SM'},\n",
    "13:{'sub':(2,1),'dom':(2,9),'food':(1,5),'obs':(0,0),'subdir':'E','domdir':'W','mesg':msg+' SM'}\n",
    "        }"
   ]
  },
  {
   "cell_type": "code",
   "execution_count": 23,
   "metadata": {
    "collapsed": false
   },
   "outputs": [
    {
     "data": {
      "image/png": "[encoded data removed]",
      "text/plain": [
       "<matplotlib.figure.Figure at 0x7f94ebeefef0>"
      ]
     },
     "metadata": {},
     "output_type": "display_data"
    },
    {
     "data": {
      "image/png": "[encoded data removed]",
      "text/plain": [
       "<matplotlib.figure.Figure at 0x7f94ed16c1d0>"
      ]
     },
     "metadata": {},
     "output_type": "display_data"
    },
    {
     "data": {
      "image/png": "[encoded data removed]",
      "text/plain": [
       "<matplotlib.figure.Figure at 0x7f94ecfa2470>"
      ]
     },
     "metadata": {},
     "output_type": "display_data"
    }
   ],
   "source": [
    "plt.figure(figsize=(10,10))\n",
    "K=12\n",
    "game = CreateEnvironment(preferences[K])\n",
    "game.Step()\n",
    "\n",
    "plt.imshow(game.BuildImage())#AgentViewPoint(1001))\n",
    "plt.xticks([])\n",
    "plt.yticks([])\n",
    "plt.ylabel('Env:{}'.format(K),weight='bold',fontsize=15)\n",
    "plt.title('Full Map',weight='bold',fontsize=20)\n",
    "plt.savefig('imgs/ENV:{}_FM.png'.format(K),bbox_inches='tight',dpi='figure')\n",
    "\n",
    "plt.figure(figsize=(10,10))\n",
    "plt.imshow(game.AgentViewPoint(1001))\n",
    "plt.xticks([])\n",
    "plt.yticks([])\n",
    "plt.title('Subordinate (Red) Vision',weight='bold',fontsize=20)\n",
    "plt.savefig('imgs/ENV:{}_AI.png'.format(K),bbox_inches='tight',dpi='figure')\n",
    "\n",
    "plt.figure(figsize=(10,10))\n",
    "plt.imshow(game.AgentViewPoint(1002))\n",
    "plt.xticks([])\n",
    "plt.yticks([])\n",
    "plt.title('Dominant (Green) Vision',weight='bold',fontsize=20)\n",
    "plt.savefig('imgs/ENV:{}_DM.png'.format(K),bbox_inches='tight',dpi='figure')"
   ]
  },
  {
   "cell_type": "code",
   "execution_count": 4,
   "metadata": {
    "collapsed": false
   },
   "outputs": [
    {
     "ename": "NameError",
     "evalue": "name 'game' is not defined",
     "output_type": "error",
     "traceback": [
      "\u001b[0;31m---------------------------------------------------------------------------\u001b[0m",
      "\u001b[0;31mNameError\u001b[0m                                 Traceback (most recent call last)",
      "\u001b[0;32m<ipython-input-4-c792436a2162>\u001b[0m in \u001b[0;36m<module>\u001b[0;34m()\u001b[0m\n\u001b[1;32m      2\u001b[0m \u001b[0mkeys\u001b[0m \u001b[0;34m=\u001b[0m \u001b[0;34m[\u001b[0m\u001b[0;34m'observed'\u001b[0m\u001b[0;34m,\u001b[0m \u001b[0;34m'mypos'\u001b[0m\u001b[0;34m,\u001b[0m \u001b[0;34m'obstacles'\u001b[0m\u001b[0;34m,\u001b[0m \u001b[0;34m'food'\u001b[0m\u001b[0;34m,\u001b[0m \u001b[0;34m'agentpos1002'\u001b[0m\u001b[0;34m]\u001b[0m\u001b[0;34m\u001b[0m\u001b[0m\n\u001b[1;32m      3\u001b[0m \u001b[0;32mfor\u001b[0m \u001b[0mk\u001b[0m \u001b[0;32min\u001b[0m \u001b[0mrange\u001b[0m\u001b[0;34m(\u001b[0m\u001b[0;36m5\u001b[0m\u001b[0;34m)\u001b[0m\u001b[0;34m:\u001b[0m\u001b[0;34m\u001b[0m\u001b[0m\n\u001b[0;32m----> 4\u001b[0;31m     \u001b[0marray\u001b[0m \u001b[0;34m=\u001b[0m \u001b[0mgame\u001b[0m\u001b[0;34m.\u001b[0m\u001b[0magents\u001b[0m\u001b[0;34m[\u001b[0m\u001b[0;36m1001\u001b[0m\u001b[0;34m]\u001b[0m\u001b[0;34m.\u001b[0m\u001b[0mNNFeed\u001b[0m\u001b[0;34m[\u001b[0m\u001b[0mkeys\u001b[0m\u001b[0;34m[\u001b[0m\u001b[0mk\u001b[0m\u001b[0;34m]\u001b[0m\u001b[0;34m]\u001b[0m\u001b[0;34m\u001b[0m\u001b[0m\n\u001b[0m\u001b[1;32m      5\u001b[0m     \u001b[0marray\u001b[0m \u001b[0;34m=\u001b[0m \u001b[0mnp\u001b[0m\u001b[0;34m.\u001b[0m\u001b[0marray\u001b[0m\u001b[0;34m(\u001b[0m\u001b[0marray\u001b[0m\u001b[0;34m,\u001b[0m\u001b[0mdtype\u001b[0m\u001b[0;34m=\u001b[0m\u001b[0mint\u001b[0m\u001b[0;34m)\u001b[0m\u001b[0;34m\u001b[0m\u001b[0m\n\u001b[1;32m      6\u001b[0m     \u001b[0marray\u001b[0m\u001b[0;34m[\u001b[0m\u001b[0marray\u001b[0m\u001b[0;34m==\u001b[0m\u001b[0;36m0\u001b[0m\u001b[0;34m]\u001b[0m\u001b[0;34m=\u001b[0m\u001b[0;34m-\u001b[0m\u001b[0;36m1\u001b[0m\u001b[0;34m\u001b[0m\u001b[0m\n",
      "\u001b[0;31mNameError\u001b[0m: name 'game' is not defined"
     ]
    }
   ],
   "source": [
    "names=['Observed', 'My position', 'Obstacles', 'Food', 'Oponent position']\n",
    "keys = ['observed', 'mypos', 'obstacles', 'food', 'agentpos1002']\n",
    "for k in range(5):\n",
    "    array = game.agents[1001].NNFeed[keys[k]]\n",
    "    array = np.array(array,dtype=int)\n",
    "    array[array==0]=-1\n",
    "    array[array==1]=0\n",
    "    plt.figure(figsize=(10,10))\n",
    "    totalrows=[]                                                                                                                                                        \n",
    "    for row in range(array.shape[0]):                                                                                                                                   \n",
    "        cells=[]                                                                                                                                                        \n",
    "        for column in range(array.shape[1]):                                                                                                                            \n",
    "            cells.append(game.GetElementImage(array[row,column]))                                                                                                       \n",
    "        totalrows.append(np.concatenate(cells,axis=1))                                                                                                                  \n",
    "    img = np.concatenate(totalrows,axis=0)\n",
    "    plt.imshow(np.array(img,dtype=np.byte))\n",
    "    plt.xticks([])\n",
    "    plt.yticks([])\n",
    "    plt.title(names[k],weight='bold',fontsize=20)\n",
    "    plt.savefig('net-input-{}.png'.format(keys[k]),bbox_inches='tight',dpi='figure')"
   ]
  },
  {
   "cell_type": "code",
   "execution_count": null,
   "metadata": {
    "collapsed": true
   },
   "outputs": [],
   "source": []
  }
 ],
 "metadata": {
  "kernelspec": {
   "display_name": "Python 3",
   "language": "python",
   "name": "python3"
  },
  "language_info": {
   "codemirror_mode": {
    "name": "ipython",
    "version": 3
   },
   "file_extension": ".py",
   "mimetype": "text/x-python",
   "name": "python",
   "nbconvert_exporter": "python",
   "pygments_lexer": "ipython3",
   "version": "3.5.2"
  },
  "widgets": {
   "state": {},
   "version": "1.1.2"
  }
 },
 "nbformat": 4,
 "nbformat_minor": 2
}
